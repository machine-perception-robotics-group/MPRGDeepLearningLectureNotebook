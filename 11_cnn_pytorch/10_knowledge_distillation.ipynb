{
  "cells": [
    {
      "cell_type": "markdown",
      "metadata": {
        "id": "WPaen6rjlQsX"
      },
      "source": [
        "# Knowledge distillation\n",
        "\n",
        "---\n",
        "\n",
        "DNNは一般的に，ネットワークのパラメータ数を増やす（層の数やチャネル数を増やす）と性能が向上していきます．しかし，ネットワークのパラメータ数を増やすと，それに伴って，実行時に必要なメモリ量や計算コストが増えてしまいます．実応用上，少ないメモリ量と計算コストで高性能な推論ができる小さなネットワークを作ることが望まれます．\n",
        "\n",
        "Knowledge distillation（知識蒸留）は，そのような小さくて高性能なネットワークを作るための学習方法です．これには，TeacherネットワークとStudentネットワークと呼ばれる2つのネットワークを使用します．以下に，クラス分類問題を解くネットワークにおけるknowledge distillationの学習方法を示します．\n",
        "\n",
        "<img src=\"https://paper-attachments.dropbox.com/s_87B2D47FBD0A698415C3853F712E17ACC67F633356B04D1BA9138A68175CE0AD_1596688289510_image.png\" width = 40%>\n",
        "\n",
        "Teacherネットワークは大きくて優秀な事前学習済み(pre-trained)ネットワークであり，StudentネットワークはTeacherネットワークよりも小さなネットワークです．事前学習済みのTeacherネットワークが持っている知識を，Teacherネットワークに教えながら学習させることで，Studentネットワークの性能が向上します．通常の学習では，ネットワークの推論結果が，人間が作成した正解ラベル(Hard target)と一致するように学習を行います．Knowledge distillationでは，Hard targetに加えて，Teacherネットワークの出力(Soft target)にも一致するようにStudentネットワークを学習させます．損失関数はどちらもクロスエントロピー関数を使用します．このように学習することで，distillationを用いない場合よりもStudentネットワークの性能が向上します．"
      ]
    },
    {
      "cell_type": "markdown",
      "metadata": {
        "id": "Sx0DC9dLlQsY"
      },
      "source": [
        "## なぜ性能が向上するのか？\n",
        "\n",
        "クラス分類問題を解くネットワークを教師あり学習で学習させる場合，教師ラベル(Hard target)として正解クラスのみが1で他のクラスが0になっているデータを使用します．例えば，正解クラスがdogである場合には，以下の図ようにdogクラスのみが1になっており，それ以外のcatやcow, carなどのクラスは0になっている配列 [0, 1, 0, 0, …] を教師ラベルとして使用します．\n",
        "\n",
        "<img src=\"https://paper-attachments.dropbox.com/s_87B2D47FBD0A698415C3853F712E17ACC67F633356B04D1BA9138A68175CE0AD_1596368489677_image.png\" width = 30%>\n",
        "\n",
        "これに対して，学習済みのTeacherネットワークが出力する値(Soft target)は，以下の図のように，dogクラス以外にも0より大きな値が存在します．一般的に，この値は正解クラスと見た目が近いほど大きく，遠いほど小さくなります．この例では，dogクラスと見た目が近いcatクラスが2番目に大きな値を持っており，大きく見た目の異なるcarクラスは非常に小さな値となっています．\n",
        "\n",
        "<img src=\"https://paper-attachments.dropbox.com/s_87B2D47FBD0A698415C3853F712E17ACC67F633356B04D1BA9138A68175CE0AD_1596368473731_image.png\" width = 30%>\n",
        "\n",
        "つまり，学習済みのネットワークが出力する値には，入力画像に対する正解クラスの類似度情報（ここではdogクラスの0.9）の他に，正解クラス”以外”の類似度情報も含まれています．優秀なTeacherネットワークから得られた，この類似度情報をStudentネットワークに伝えることで，Studentネットワークの精度が向上すると考えられています．（※ただし，理論的な証明はまだ存在していません．また，この他にも”ラベル平滑化”による正則化の効果など，複数の要因によって性能が向上すると考えられています．）"
      ]
    },
    {
      "cell_type": "markdown",
      "metadata": {
        "id": "2YfQM86tlQsY"
      },
      "source": [
        "## 学習方法\n",
        "\n",
        "KDでは以下の2段階の手順でネットワークを学習します．\n",
        "\n",
        "1. 教師ラベル(hard target)を使ってTeacherネットワークを学習させる\n",
        "2. 教師ラベル(hard target)と学習済みのTeacherネットワークの出力(soft target)を使ってStudentネットワークを学習させる\n",
        "\n",
        "#### ステップ 1\n",
        "Teacherネットワークの学習は通常の教師あり学習です．損失関数として，教師ラベルとのCross entropy lossを使用します．このとき，学習させたTeacherネットワークを保存しておき，次のステップで使います．\n",
        "\n",
        "#### ステップ 2\n",
        "Studentネットワークの学習では，教師ラベルを使用した通常の教師あり学習に加え，学習済みTeacherネットワークの出力を模倣するような学習を行います．\n",
        "\n",
        "教師ラベル(hard target)との損失を計算する際にはcross entropy lossを使用します．損失関数は以下のように表されます．\n",
        "\n",
        "$$L_{hard} = - \\sum^C_i{t_i \\log{p^s_i(x)}}$$\n",
        "\n",
        "ここで，$C$はクラス数，$t_i \\in \\{0,1\\}$は$i$番目クラスの教師ラベル値，$x$は入力画像，$p^s_i$はStudentネットワークの出力をsoftmax関数で正規化した後の，$i$番目クラスの確率値です (例えば，dogクラスの0.9や，catクラスの0.1などです)．この損失関数は，通常の教師あり学習で使用するものとまったく同じ関数です．\n",
        "\n",
        "Teacherネットワークの出力(soft target)との損失を計算する際にも同様にcross entropy lossを使用します．損失関数は以下のように表されます．これがdistillationに使われる損失関数です．\n",
        "\n",
        "$$L_{soft} = - \\sum^C_i{p^t_i(x; \\tau) \\log{p^s_i(x; \\tau)}}$$\n",
        "\n",
        "ここで，$p^t_i$はTeacherネットワークの出力をsoftmax関数で正規化した後の，$i$番目クラスの確率値です．また，$\\tau$は温度パラメータと呼ばれるもので，softmax関数によって正規化された確率分布の滑らかさを決定する値です．この温度付きsoftmax関数には，Teacherネットワークの情報をStudentネットワークに伝えやすくする役割があります．\n",
        "\n",
        "最終的な損失は以下のように計算します．$\\alpha$は蒸留用の損失をどれだけ考慮するかを決定するパラメータです．\n",
        "$$L = L_{hard} + \\alpha \\cdot L_{soft}$$"
      ]
    },
    {
      "cell_type": "markdown",
      "metadata": {
        "id": "TLr0Hyp9lQsZ"
      },
      "source": [
        "## Softmax関数の温度パラメータ\n",
        "\n",
        "温度付きSoftmax関数とは，以下の式で表される関数です．ここで，$z$がネットワークの出力(logits)，$\\tau$が温度パラメータを表します．温度$\\tau$を高い値にすることで，正規化後の確率分布が滑らかになります．\n",
        "\n",
        "$$p_i = \\frac{exp(z_i/\\tau)}{\\sum^C_k{exp(z_k/\\tau)}}$$\n",
        "\n",
        "温度付きSoftmax関数の振る舞いを理解するため，以下に温度$\\tau$を変更した際の，各クラスの確率値$p_i$の分布を示します．左がネットワークの出力$z_i$の分布，中央が$\\tau=1$で$z_i$を正規化したときの確率$p_i$の分布，右が$\\tau=4$の場合の確率$p_i$の分布です．温度を上げることで確率分布が変化していることが分かります．(プログラム中の”T”の値を書き換えて，分布がどのように変化するか調べてみてください)\n",
        "\n",
        "通常のsoftmax関数($\\tau=1$の場合に相当)は，最も大きな値のみが1に近く，それ以外は0に近い値となります．この状態のままクロスエントロピー関数を使って蒸留すると，Teacherネットワークが持つ不正解クラスの情報がStudentネットワークにうまく伝わりません．温度パラメータを導入し，$\\tau$の値を大きくすることで，不正解クラスの確率値がある程度大きくなるため，その情報が伝わりやすくなります．"
      ]
    },
    {
      "cell_type": "code",
      "execution_count": 1,
      "metadata": {
        "id": "xURkI8bvlQsZ",
        "outputId": "07fd0583-5c78-48ff-87a0-6ae767b09788",
        "colab": {
          "base_uri": "https://localhost:8080/",
          "height": 338
        }
      },
      "outputs": [
        {
          "output_type": "display_data",
          "data": {
            "text/plain": [
              "<Figure size 1800x400 with 3 Axes>"
            ],
            "image/png": "[encoded data removed]"
          },
          "metadata": {}
        }
      ],
      "source": [
        "import torch\n",
        "import matplotlib.pyplot as plt\n",
        "\n",
        "class_name = [\"car\",\"cat\", \"deer\", \"dog\", \"cow\"]\n",
        "z = torch.tensor([-5.2, 6.3, -0.5, 9.4, 3.1])\n",
        "\n",
        "T = 1\n",
        "p_1 = torch.softmax(z/T, dim=0)\n",
        "\n",
        "T = 4\n",
        "p_4 = torch.softmax(z/T, dim=0)\n",
        "\n",
        "fig, (ax1, ax2, ax3) = plt.subplots(ncols=3, figsize=(18,4))\n",
        "ax1.bar(class_name, z)\n",
        "ax2.bar(class_name, p_1)\n",
        "ax3.bar(class_name, p_4)\n",
        "ax2.set_ylim([0,1])\n",
        "ax3.set_ylim([0,1])\n",
        "ax1.set_title(\"$z_i$: logits\")\n",
        "ax2.set_title(\"$p_i$: softmax (T=1)\")\n",
        "ax3.set_title(\"$p_i$: softmax (T=4)\")\n",
        "fig.show()"
      ]
    },
    {
      "cell_type": "markdown",
      "metadata": {
        "id": "JITSIy8qlQsZ"
      },
      "source": [
        "# 畳み込みニューラルネットワークのknowledge distillation\n",
        "クラス分類問題を解くネットワークに対して，knowledge distillationを適用した学習を行います．\n",
        "データセットには一般物体認識用のデータセットであるCIFAR-10を使います．CIFAR-10は10クラスの画像からなるデータセットです．\n",
        "蒸留では，\n",
        "\n",
        "1. Teacherネットワークを学習させる\n",
        "2. Studentネットワークを学習させる\n",
        "\n",
        "という2段階の学習を行います．\n",
        "この実験の目的は，Studentネットワークの精度が，蒸留を使用しない通常の学習よりも向上するかどうかを確かめることです．\n",
        "そのため，Studentネットワークを蒸留を用いずに学習させた場合と，蒸留を用いて学習させた場合の2つを比較します．"
      ]
    },
    {
      "cell_type": "code",
      "execution_count": 2,
      "metadata": {
        "id": "F-edNU36lQsa"
      },
      "outputs": [],
      "source": [
        "from time import time\n",
        "import torch\n",
        "import torch.nn as nn\n",
        "import torch.nn.functional as F\n",
        "import torchvision\n",
        "import torchvision.transforms as transforms\n",
        "import torchsummary"
      ]
    },
    {
      "cell_type": "code",
      "execution_count": 3,
      "metadata": {
        "id": "oS23P_YPlQsa"
      },
      "outputs": [],
      "source": [
        "# エポック数の設定\n",
        "NUM_EPOCH = 20"
      ]
    },
    {
      "cell_type": "code",
      "execution_count": 4,
      "metadata": {
        "id": "ZUtLBqE7lQsa",
        "outputId": "ce9f36b9-e00a-4aaa-d2e2-513d1056c05c",
        "colab": {
          "base_uri": "https://localhost:8080/"
        }
      },
      "outputs": [
        {
          "output_type": "stream",
          "name": "stderr",
          "text": [
            "100%|██████████| 170M/170M [00:04<00:00, 42.1MB/s]\n",
            "/usr/local/lib/python3.12/dist-packages/torch/utils/data/dataloader.py:627: UserWarning: This DataLoader will create 10 worker processes in total. Our suggested max number of worker in current system is 2, which is smaller than what this DataLoader is going to create. Please be aware that excessive worker creation might get DataLoader running slow or even freeze, lower the worker number to avoid potential slowness/freeze if necessary.\n",
            "  warnings.warn(\n"
          ]
        }
      ],
      "source": [
        "# データローダーの準備\n",
        "transform = transforms.Compose([\n",
        "    transforms.RandomHorizontalFlip(),\n",
        "    transforms.RandomCrop(32, padding=4),\n",
        "    transforms.ToTensor(),\n",
        "    transforms.Normalize((0.4914, 0.4822, 0.4465), (0.2470, 0.2435, 0.2616)),\n",
        "])\n",
        "\n",
        "test_transform = transforms.Compose([\n",
        "    transforms.ToTensor(),\n",
        "    transforms.Normalize((0.4914, 0.4822, 0.4465), (0.2470, 0.2435, 0.2616)),\n",
        "])\n",
        "\n",
        "train_data = torchvision.datasets.CIFAR10(root=\"./dataset/CIFAR-10\", train=True, transform=transform, download=True)\n",
        "test_data = torchvision.datasets.CIFAR10(root=\"./dataset/CIFAR-10\", train=False, transform=test_transform, download=True)\n",
        "\n",
        "train_loader = torch.utils.data.DataLoader(train_data, batch_size=64, shuffle=True, num_workers=10)\n",
        "test_loader = torch.utils.data.DataLoader(test_data, batch_size=1000, shuffle=False, num_workers=10)"
      ]
    },
    {
      "cell_type": "markdown",
      "metadata": {
        "id": "QUPFSpSvlQsb"
      },
      "source": [
        "## ネットワークの用意\n",
        "畳み込みネットワークを定義します．ここでは，2層の畳み込み層と3層の全結合層により構成されるネットワークとします．\n",
        "widen_factorという引数は，畳み込み層のフィルタ数と全結合層のユニット数をデフォルトの値から何倍するかを決定するものです．"
      ]
    },
    {
      "cell_type": "code",
      "execution_count": 5,
      "metadata": {
        "id": "AUnOze_vlQsb"
      },
      "outputs": [],
      "source": [
        "class CNN(nn.Module):\n",
        "    def __init__(self, widen_factor=1):\n",
        "        super().__init__()\n",
        "        self.conv1 = nn.Conv2d(3, 16*widen_factor, kernel_size=3, stride=1, padding=1)\n",
        "        self.conv2 = nn.Conv2d(16*widen_factor, 32*widen_factor, kernel_size=3, stride=1, padding=1)\n",
        "        self.l1 = nn.Linear(8*8*32*widen_factor, 1024*widen_factor)\n",
        "        self.l2 = nn.Linear(1024*widen_factor, 1024*widen_factor)\n",
        "        self.l3 = nn.Linear(1024*widen_factor, 10)\n",
        "        self.act = nn.ReLU()\n",
        "        self.pool = nn.MaxPool2d(2, 2)\n",
        "\n",
        "    def forward(self, x):\n",
        "        h = self.pool(self.act(self.conv1(x)))\n",
        "        h = self.pool(self.act(self.conv2(h)))\n",
        "        h = h.view(h.size()[0], -1)\n",
        "        h = self.act(self.l1(h))\n",
        "        h = self.act(self.l2(h))\n",
        "        h = self.l3(h)\n",
        "        return h"
      ]
    },
    {
      "cell_type": "markdown",
      "metadata": {
        "id": "pSdDwiRIlQsb"
      },
      "source": [
        "## Teacherネットワークの学習"
      ]
    },
    {
      "cell_type": "markdown",
      "metadata": {
        "id": "GIS8EO4wlQsc"
      },
      "source": [
        "### Teacherネットワークの用意\n",
        "Teacherネットワークを作成します．今回は，widen_factor=2 の大きなネットワークを用意します．\n",
        "サマリーの Total params を見ると，パラメータ数が 12,626,890 あることが分かります．"
      ]
    },
    {
      "cell_type": "code",
      "execution_count": 6,
      "metadata": {
        "id": "VpCdIuLMlQsc",
        "outputId": "507491fc-3447-4ac3-cc63-d8b3ba298fb0",
        "colab": {
          "base_uri": "https://localhost:8080/"
        }
      },
      "outputs": [
        {
          "output_type": "stream",
          "name": "stdout",
          "text": [
            "----------------------------------------------------------------\n",
            "        Layer (type)               Output Shape         Param #\n",
            "================================================================\n",
            "            Conv2d-1           [-1, 32, 32, 32]             896\n",
            "              ReLU-2           [-1, 32, 32, 32]               0\n",
            "         MaxPool2d-3           [-1, 32, 16, 16]               0\n",
            "            Conv2d-4           [-1, 64, 16, 16]          18,496\n",
            "              ReLU-5           [-1, 64, 16, 16]               0\n",
            "         MaxPool2d-6             [-1, 64, 8, 8]               0\n",
            "            Linear-7                 [-1, 2048]       8,390,656\n",
            "              ReLU-8                 [-1, 2048]               0\n",
            "            Linear-9                 [-1, 2048]       4,196,352\n",
            "             ReLU-10                 [-1, 2048]               0\n",
            "           Linear-11                   [-1, 10]          20,490\n",
            "================================================================\n",
            "Total params: 12,626,890\n",
            "Trainable params: 12,626,890\n",
            "Non-trainable params: 0\n",
            "----------------------------------------------------------------\n",
            "Input size (MB): 0.01\n",
            "Forward/backward pass size (MB): 0.91\n",
            "Params size (MB): 48.17\n",
            "Estimated Total Size (MB): 49.09\n",
            "----------------------------------------------------------------\n"
          ]
        }
      ],
      "source": [
        "# teacher を用意\n",
        "teacher = CNN(widen_factor=2).cuda()\n",
        "# teacher のサマリーを表示\n",
        "torchsummary.summary(model=teacher, input_size=(3,32,32))"
      ]
    },
    {
      "cell_type": "markdown",
      "metadata": {
        "id": "nbG12IBGlQsc"
      },
      "source": [
        "### 学習 & 評価"
      ]
    },
    {
      "cell_type": "code",
      "execution_count": 7,
      "metadata": {
        "id": "bySOxcJalQsc",
        "outputId": "07077a89-38bc-4815-f188-99531cce4b7e",
        "colab": {
          "base_uri": "https://localhost:8080/"
        }
      },
      "outputs": [
        {
          "output_type": "stream",
          "name": "stdout",
          "text": [
            "epoch: 1, mean loss: 1.6643405203014383, mean accuracy: 0.38712, elapsed_time :20.421443223953247\n",
            "epoch: 2, mean loss: 1.270948616744917, mean accuracy: 0.54008, elapsed_time :41.564637899398804\n",
            "epoch: 3, mean loss: 1.081867653619298, mean accuracy: 0.61262, elapsed_time :62.16201329231262\n",
            "epoch: 4, mean loss: 0.9668584476651438, mean accuracy: 0.65716, elapsed_time :83.14490389823914\n",
            "epoch: 5, mean loss: 0.8816207073381185, mean accuracy: 0.6876, elapsed_time :104.34049439430237\n",
            "epoch: 6, mean loss: 0.8130029824841053, mean accuracy: 0.7143, elapsed_time :124.27386021614075\n",
            "epoch: 7, mean loss: 0.760244303385315, mean accuracy: 0.73336, elapsed_time :145.37192916870117\n",
            "epoch: 8, mean loss: 0.7165335896984696, mean accuracy: 0.74892, elapsed_time :164.68540024757385\n",
            "epoch: 9, mean loss: 0.6796419177290118, mean accuracy: 0.76202, elapsed_time :185.60682559013367\n",
            "epoch: 10, mean loss: 0.6481855968227777, mean accuracy: 0.77202, elapsed_time :205.46337461471558\n",
            "epoch: 11, mean loss: 0.613845109329809, mean accuracy: 0.7841, elapsed_time :226.0036883354187\n",
            "epoch: 12, mean loss: 0.5858910916101597, mean accuracy: 0.7939, elapsed_time :245.71645140647888\n",
            "epoch: 13, mean loss: 0.5639041807035656, mean accuracy: 0.8019, elapsed_time :266.71907019615173\n",
            "epoch: 14, mean loss: 0.5437461367958342, mean accuracy: 0.80934, elapsed_time :286.2868881225586\n",
            "epoch: 15, mean loss: 0.512432931405504, mean accuracy: 0.81922, elapsed_time :307.5262801647186\n",
            "epoch: 16, mean loss: 0.497689309746713, mean accuracy: 0.82634, elapsed_time :328.5597085952759\n",
            "epoch: 17, mean loss: 0.4736330899436151, mean accuracy: 0.83372, elapsed_time :348.30309438705444\n",
            "epoch: 18, mean loss: 0.45871882144447484, mean accuracy: 0.8378, elapsed_time :369.4207396507263\n",
            "epoch: 19, mean loss: 0.44249892520630146, mean accuracy: 0.84478, elapsed_time :389.49179339408875\n",
            "epoch: 20, mean loss: 0.4221023803438677, mean accuracy: 0.85094, elapsed_time :410.704306602478\n",
            "test accuracy: 0.8122\n"
          ]
        }
      ],
      "source": [
        "# オプティマイザの設定\n",
        "optimizer = torch.optim.SGD(teacher.parameters(), lr=0.01, momentum=0.9)\n",
        "\n",
        "# ネットワークを学習モードへ変更\n",
        "teacher.train()\n",
        "\n",
        "start = time()\n",
        "for epoch in range(1, NUM_EPOCH+1):\n",
        "    sum_loss = 0.0\n",
        "    count = 0\n",
        "\n",
        "    for image, label in train_loader:\n",
        "\n",
        "        image = image.cuda()\n",
        "        label = label.cuda()\n",
        "\n",
        "        y = teacher(image)\n",
        "\n",
        "        # 損失の計算\n",
        "        loss = F.cross_entropy(y, label)\n",
        "\n",
        "        teacher.zero_grad()\n",
        "        loss.backward()\n",
        "        optimizer.step()\n",
        "\n",
        "        sum_loss += loss.item()\n",
        "\n",
        "        pred = torch.argmax(y, dim=1)\n",
        "        count += torch.sum(pred == label)\n",
        "\n",
        "    print(f\"epoch: {epoch}, mean loss: {sum_loss/len(train_loader)}, mean accuracy: {count.item()/len(train_loader.dataset)}, elapsed_time :{time()-start}\")\n",
        "\n",
        "# ネットワークを評価モードへ変更\n",
        "teacher.eval()\n",
        "\n",
        "# 評価の実行\n",
        "count = 0\n",
        "with torch.no_grad():\n",
        "    for image, label in test_loader:\n",
        "\n",
        "        image = image.cuda()\n",
        "        label = label.cuda()\n",
        "\n",
        "        y = teacher(image)\n",
        "\n",
        "        pred = torch.argmax(y, dim=1)\n",
        "        count += torch.sum(pred == label)\n",
        "\n",
        "print(f\"test accuracy: {count.item()/len(test_loader.dataset)}\")"
      ]
    },
    {
      "cell_type": "markdown",
      "metadata": {
        "id": "2EuGB8DAlQsc"
      },
      "source": [
        "### モデルの保存\n",
        "学習済みのTeacherネットワークの重みパラメータを保存しておきます．こうすることで，再実験を行う際に，Teacherネットワークを再度学習させなくても済むようになります．"
      ]
    },
    {
      "cell_type": "code",
      "execution_count": 8,
      "metadata": {
        "id": "1CVi-nGYlQsc"
      },
      "outputs": [],
      "source": [
        "torch.save(teacher, \"teacher.pkl\")"
      ]
    },
    {
      "cell_type": "markdown",
      "metadata": {
        "id": "5Pw3JpxxlQsc"
      },
      "source": [
        "## Studentネットワーク単体の学習（KDなしの場合）\n",
        "後で比較をするために，Studentネットワークに対して，knowledge distillationを適用しない通常の学習を行います．"
      ]
    },
    {
      "cell_type": "markdown",
      "metadata": {
        "id": "PgYV44rklQsc"
      },
      "source": [
        "### Studentネットワークの用意\n",
        "Studentネットワークを作成します．Teacherネットワークよりも小さなネットワークにするため widen_factor=1 にします．Teacherネットワークのパラメータ数は 12,626,890 でしたが，Studentネットワークのパラメータ数は 3,163,114 であり，約4分の1になっていることが分かります．"
      ]
    },
    {
      "cell_type": "code",
      "execution_count": 9,
      "metadata": {
        "id": "woT4alyxlQsc",
        "outputId": "ec921e66-5fa9-4b77-a695-96bdcaaeb533",
        "colab": {
          "base_uri": "https://localhost:8080/"
        }
      },
      "outputs": [
        {
          "output_type": "stream",
          "name": "stdout",
          "text": [
            "----------------------------------------------------------------\n",
            "        Layer (type)               Output Shape         Param #\n",
            "================================================================\n",
            "            Conv2d-1           [-1, 16, 32, 32]             448\n",
            "              ReLU-2           [-1, 16, 32, 32]               0\n",
            "         MaxPool2d-3           [-1, 16, 16, 16]               0\n",
            "            Conv2d-4           [-1, 32, 16, 16]           4,640\n",
            "              ReLU-5           [-1, 32, 16, 16]               0\n",
            "         MaxPool2d-6             [-1, 32, 8, 8]               0\n",
            "            Linear-7                 [-1, 1024]       2,098,176\n",
            "              ReLU-8                 [-1, 1024]               0\n",
            "            Linear-9                 [-1, 1024]       1,049,600\n",
            "             ReLU-10                 [-1, 1024]               0\n",
            "           Linear-11                   [-1, 10]          10,250\n",
            "================================================================\n",
            "Total params: 3,163,114\n",
            "Trainable params: 3,163,114\n",
            "Non-trainable params: 0\n",
            "----------------------------------------------------------------\n",
            "Input size (MB): 0.01\n",
            "Forward/backward pass size (MB): 0.45\n",
            "Params size (MB): 12.07\n",
            "Estimated Total Size (MB): 12.53\n",
            "----------------------------------------------------------------\n"
          ]
        }
      ],
      "source": [
        "# student を用意\n",
        "student = CNN(widen_factor=1).cuda()\n",
        "# teacher のサマリーを表示\n",
        "torchsummary.summary(model=student, input_size=(3,32,32))"
      ]
    },
    {
      "cell_type": "markdown",
      "metadata": {
        "id": "j1UbuK2glQsc"
      },
      "source": [
        "### 学習 & 評価"
      ]
    },
    {
      "cell_type": "code",
      "execution_count": 10,
      "metadata": {
        "id": "delyEzVflQsc",
        "outputId": "890240fb-99c6-4247-8471-ffdaa36a8bfd",
        "colab": {
          "base_uri": "https://localhost:8080/"
        }
      },
      "outputs": [
        {
          "output_type": "stream",
          "name": "stdout",
          "text": [
            "epoch: 1, mean loss: 1.7130489815836367, mean accuracy: 0.3691, elapsed_time :20.343639135360718\n",
            "epoch: 2, mean loss: 1.3537725379399936, mean accuracy: 0.5084, elapsed_time :40.556525230407715\n",
            "epoch: 3, mean loss: 1.1905540954273985, mean accuracy: 0.5733, elapsed_time :60.97960591316223\n",
            "epoch: 4, mean loss: 1.085797795325594, mean accuracy: 0.61308, elapsed_time :81.19039845466614\n",
            "epoch: 5, mean loss: 1.007177372875116, mean accuracy: 0.64562, elapsed_time :102.27707147598267\n",
            "epoch: 6, mean loss: 0.9254015722238195, mean accuracy: 0.67342, elapsed_time :122.12276077270508\n",
            "epoch: 7, mean loss: 0.8784074985691349, mean accuracy: 0.68984, elapsed_time :143.17932033538818\n",
            "epoch: 8, mean loss: 0.8340531542249348, mean accuracy: 0.70726, elapsed_time :163.04944682121277\n",
            "epoch: 9, mean loss: 0.7895328847648543, mean accuracy: 0.7206, elapsed_time :183.97158885002136\n",
            "epoch: 10, mean loss: 0.7643453266538317, mean accuracy: 0.7316, elapsed_time :203.8355827331543\n",
            "epoch: 11, mean loss: 0.7343420478922632, mean accuracy: 0.74264, elapsed_time :224.99703574180603\n",
            "epoch: 12, mean loss: 0.7057483007612131, mean accuracy: 0.75352, elapsed_time :244.70931124687195\n",
            "epoch: 13, mean loss: 0.6818371155606512, mean accuracy: 0.76168, elapsed_time :266.0072569847107\n",
            "epoch: 14, mean loss: 0.6650793587841342, mean accuracy: 0.76666, elapsed_time :286.2185115814209\n",
            "epoch: 15, mean loss: 0.643336946663954, mean accuracy: 0.77372, elapsed_time :307.26049423217773\n",
            "epoch: 16, mean loss: 0.6231158631460746, mean accuracy: 0.78228, elapsed_time :328.6669616699219\n",
            "epoch: 17, mean loss: 0.6087794093524709, mean accuracy: 0.78582, elapsed_time :349.52365136146545\n",
            "epoch: 18, mean loss: 0.5975327395340976, mean accuracy: 0.78818, elapsed_time :370.64957785606384\n",
            "epoch: 19, mean loss: 0.5817386570298458, mean accuracy: 0.79504, elapsed_time :390.2857413291931\n",
            "epoch: 20, mean loss: 0.5716120933404054, mean accuracy: 0.79838, elapsed_time :410.72694540023804\n",
            "test accuracy: 0.7802\n"
          ]
        }
      ],
      "source": [
        "# オプティマイザの設定\n",
        "optimizer = torch.optim.SGD(student.parameters(), lr=0.01, momentum=0.9)\n",
        "\n",
        "# ネットワークを学習モードへ変更\n",
        "student.train()\n",
        "\n",
        "start = time()\n",
        "for epoch in range(1, NUM_EPOCH+1):\n",
        "    sum_loss = 0.0\n",
        "    count = 0\n",
        "\n",
        "    for image, label in train_loader:\n",
        "\n",
        "        image = image.cuda()\n",
        "        label = label.cuda()\n",
        "\n",
        "        y_s = student(image)\n",
        "\n",
        "        # 損失の計算\n",
        "        loss = F.cross_entropy(y_s, label)\n",
        "\n",
        "        student.zero_grad()\n",
        "        loss.backward()\n",
        "        optimizer.step()\n",
        "\n",
        "        sum_loss += loss.item()\n",
        "\n",
        "        pred = torch.argmax(y_s, dim=1)\n",
        "        count += torch.sum(pred == label)\n",
        "\n",
        "    print(f\"epoch: {epoch}, mean loss: {sum_loss/len(train_loader)}, mean accuracy: {count.item()/len(train_loader.dataset)}, elapsed_time :{time()-start}\")\n",
        "\n",
        "# ネットワークを評価モードへ変更\n",
        "student.eval()\n",
        "\n",
        "# 評価の実行\n",
        "count = 0\n",
        "with torch.no_grad():\n",
        "    for image, label in test_loader:\n",
        "\n",
        "        image = image.cuda()\n",
        "        label = label.cuda()\n",
        "\n",
        "        y = student(image)\n",
        "\n",
        "        pred = torch.argmax(y, dim=1)\n",
        "        count += torch.sum(pred == label)\n",
        "\n",
        "print(f\"test accuracy: {count.item()/len(test_loader.dataset)}\")"
      ]
    },
    {
      "cell_type": "markdown",
      "metadata": {
        "id": "CtmMoJzplQsd"
      },
      "source": [
        "## Studentネットワークの学習（KDありの場合）\n",
        "学習済みTeacherネットワークを使ってknowledge distillationを行います．"
      ]
    },
    {
      "cell_type": "markdown",
      "metadata": {
        "id": "A90tFzKllQsd"
      },
      "source": [
        "### Teacherネットワークの読み込み\n",
        "先ほど保存したTeacherネットワークの重みパラメータをteacherに読み込みます．"
      ]
    },
    {
      "cell_type": "code",
      "execution_count": 11,
      "metadata": {
        "id": "q30eedYVlQsd"
      },
      "outputs": [],
      "source": [
        "teacher = torch.load(\"teacher.pkl\",weights_only=False)"
      ]
    },
    {
      "cell_type": "markdown",
      "metadata": {
        "id": "Etu4jXgjlQsd"
      },
      "source": [
        "### Studentネットワークの用意\n",
        "Studentネットワークの重みを初期化するため，再度ネットワークを作成します．"
      ]
    },
    {
      "cell_type": "code",
      "execution_count": 12,
      "metadata": {
        "id": "gfCmU9X1lQsd"
      },
      "outputs": [],
      "source": [
        "student = CNN(widen_factor=1).cuda()"
      ]
    },
    {
      "cell_type": "markdown",
      "metadata": {
        "id": "iy3djMyilQsd"
      },
      "source": [
        "### Cross entropy lossの定義\n",
        "蒸留用の損失関数を定義します．StudentネットワークとTeacherネットワークの出力(logits)に対して温度付きsoftmaxで正規化し，cross entropy lossを計算します．"
      ]
    },
    {
      "cell_type": "code",
      "execution_count": 13,
      "metadata": {
        "id": "IfdwKTTklQsd"
      },
      "outputs": [],
      "source": [
        "def cross_entropy(student_logits, teacher_logits, T):\n",
        "    student_log_softmax = F.log_softmax(student_logits/T, dim=1)\n",
        "    teacher_softmax = F.softmax(teacher_logits/T, dim=1)\n",
        "    ce = -(teacher_softmax * student_log_softmax).sum(dim=1)\n",
        "    return ce.mean()"
      ]
    },
    {
      "cell_type": "markdown",
      "metadata": {
        "id": "drP6kL44lQsd"
      },
      "source": [
        "### 学習 & 評価\n",
        "$L_{hard}$と$L_{soft}$の2つの損失関数を使用して，Studentネットワークを学習させます．\n",
        "今回は，温度パラメータを 4，$\\alpha$を 4 に設定します．\n",
        "Studentネットワークの損失値と精度を表示します．"
      ]
    },
    {
      "cell_type": "code",
      "execution_count": 14,
      "metadata": {
        "id": "Cmh9g0f3lQsd",
        "outputId": "379083eb-5f7c-406c-bdf4-3bfd5d37a649",
        "colab": {
          "base_uri": "https://localhost:8080/"
        }
      },
      "outputs": [
        {
          "output_type": "stream",
          "name": "stdout",
          "text": [
            "epoch: 1, mean loss: 9.691155187919012, mean accuracy: 0.38844, elapsed_time :20.73718023300171\n",
            "epoch: 2, mean loss: 8.51107318200114, mean accuracy: 0.55214, elapsed_time :41.42600631713867\n",
            "epoch: 3, mean loss: 8.055094253071738, mean accuracy: 0.62094, elapsed_time :62.64934945106506\n",
            "epoch: 4, mean loss: 7.750140737084782, mean accuracy: 0.66648, elapsed_time :82.67195892333984\n",
            "epoch: 5, mean loss: 7.5541421092684615, mean accuracy: 0.6941, elapsed_time :104.10921025276184\n",
            "epoch: 6, mean loss: 7.423616972725714, mean accuracy: 0.71592, elapsed_time :124.89164519309998\n",
            "epoch: 7, mean loss: 7.325210946905034, mean accuracy: 0.73376, elapsed_time :146.17655611038208\n",
            "epoch: 8, mean loss: 7.2509186493466276, mean accuracy: 0.74468, elapsed_time :167.28296875953674\n",
            "epoch: 9, mean loss: 7.201645583447898, mean accuracy: 0.75764, elapsed_time :187.51143860816956\n",
            "epoch: 10, mean loss: 7.141239950419082, mean accuracy: 0.76746, elapsed_time :208.8972978591919\n",
            "epoch: 11, mean loss: 7.104906443134903, mean accuracy: 0.77274, elapsed_time :229.2802975177765\n",
            "epoch: 12, mean loss: 7.067940582704666, mean accuracy: 0.7809, elapsed_time :250.96145796775818\n",
            "epoch: 13, mean loss: 7.0237560949057265, mean accuracy: 0.79014, elapsed_time :272.1613984107971\n",
            "epoch: 14, mean loss: 6.988627802075633, mean accuracy: 0.79752, elapsed_time :292.5069901943207\n",
            "epoch: 15, mean loss: 6.97005426243443, mean accuracy: 0.80044, elapsed_time :314.06562781333923\n",
            "epoch: 16, mean loss: 6.950472815262387, mean accuracy: 0.80552, elapsed_time :334.510630607605\n",
            "epoch: 17, mean loss: 6.923016077417242, mean accuracy: 0.809, elapsed_time :355.7293086051941\n",
            "epoch: 18, mean loss: 6.906949091445455, mean accuracy: 0.81484, elapsed_time :376.3584177494049\n",
            "epoch: 19, mean loss: 6.884121060676282, mean accuracy: 0.82108, elapsed_time :397.5821912288666\n",
            "epoch: 20, mean loss: 6.864709391923207, mean accuracy: 0.82438, elapsed_time :418.9069323539734\n",
            "test accuracy: 0.7926\n"
          ]
        }
      ],
      "source": [
        "# オプティマイザの設定\n",
        "optimizer = torch.optim.SGD(student.parameters(), lr=0.01, momentum=0.9)\n",
        "\n",
        "# studentネットワークのみを学習モードへ変更\n",
        "teacher.eval()\n",
        "student.train()\n",
        "\n",
        "start = time()\n",
        "for epoch in range(1, NUM_EPOCH+1):\n",
        "    sum_loss = 0.0\n",
        "    count = 0\n",
        "\n",
        "    for image, label in train_loader:\n",
        "\n",
        "        image = image.cuda()\n",
        "        label = label.cuda()\n",
        "\n",
        "        # Teacherネットワークの出力を得る\n",
        "        y_t = teacher(image)\n",
        "        # Studentネットワークの出力を得る\n",
        "        y_s = student(image)\n",
        "\n",
        "        # 損失の計算\n",
        "        hard_loss = F.cross_entropy(y_s, label)\n",
        "        soft_loss = cross_entropy(y_s, y_t.detach(), T=4.)\n",
        "        loss = hard_loss + 4.0 * soft_loss\n",
        "\n",
        "        student.zero_grad()\n",
        "        loss.backward()\n",
        "        optimizer.step()\n",
        "\n",
        "        sum_loss += loss.item()\n",
        "\n",
        "        pred = torch.argmax(y_s, dim=1)\n",
        "        count += torch.sum(pred == label)\n",
        "\n",
        "    print(f\"epoch: {epoch}, mean loss: {sum_loss/len(train_loader)}, mean accuracy: {count.item()/len(train_loader.dataset)}, elapsed_time :{time()-start}\")\n",
        "\n",
        "# ネットワークを評価モードへ変更\n",
        "student.eval()\n",
        "\n",
        "# 評価の実行\n",
        "count = 0\n",
        "with torch.no_grad():\n",
        "    for image, label in test_loader:\n",
        "\n",
        "        image = image.cuda()\n",
        "        label = label.cuda()\n",
        "\n",
        "        y = student(image)\n",
        "\n",
        "        pred = torch.argmax(y, dim=1)\n",
        "        count += torch.sum(pred == label)\n",
        "\n",
        "print(f\"test accuracy: {count.item()/len(test_loader.dataset)}\")"
      ]
    },
    {
      "cell_type": "markdown",
      "metadata": {
        "id": "FQRS15-9lQsd"
      },
      "source": [
        "# 課題\n",
        "1. 温度パラメータ $\\tau$ の値や$\\alpha$の値を変更して精度の変化を調査してください．"
      ]
    },
    {
      "cell_type": "code",
      "execution_count": 14,
      "metadata": {
        "id": "OAjQjJazlQsd"
      },
      "outputs": [],
      "source": []
    }
  ],
  "metadata": {
    "kernelspec": {
      "display_name": "Python 3",
      "name": "python3"
    },
    "language_info": {
      "codemirror_mode": {
        "name": "ipython",
        "version": 3
      },
      "file_extension": ".py",
      "mimetype": "text/x-python",
      "name": "python",
      "nbconvert_exporter": "python",
      "pygments_lexer": "ipython3",
      "version": "3.7.6"
    },
    "toc-autonumbering": false,
    "colab": {
      "provenance": [],
      "gpuType": "T4"
    },
    "accelerator": "GPU"
  },
  "nbformat": 4,
  "nbformat_minor": 0
}