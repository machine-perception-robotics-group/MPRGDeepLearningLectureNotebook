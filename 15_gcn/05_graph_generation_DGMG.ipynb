{
  "nbformat": 4,
  "nbformat_minor": 0,
  "metadata": {
    "colab": {
      "provenance": [],
      "include_colab_link": true
    },
    "kernelspec": {
      "name": "python3",
      "display_name": "Python 3"
    },
    "accelerator": "GPU"
  },
  "cells": [
    {
      "cell_type": "markdown",
      "metadata": {
        "id": "view-in-github",
        "colab_type": "text"
      },
      "source": [
        "<a href=\"https://colab.research.google.com/github/machine-perception-robotics-group/MPRGDeepLearningLectureNotebook/blob/shimo-bugfix/15_gcn/05_graph_generation_DGMG.ipynb\" target=\"_parent\"><img src=\"https://colab.research.google.com/assets/colab-badge.svg\" alt=\"Open In Colab\"/></a>"
      ]
    },
    {
      "cell_type": "markdown",
      "metadata": {
        "id": "8lVD_IdhDqbQ"
      },
      "source": [
        "# グラフ生成\n",
        "\n",
        "---\n",
        "\n"
      ]
    },
    {
      "cell_type": "markdown",
      "metadata": {
        "id": "RXx93UOlsK86"
      },
      "source": [
        "グラフ生成とは,その名の通りグラフを生成する分野です.  \n",
        "最も一般的なタスクは, 化合物の生成です.  \n",
        "化合物の性質（水溶性,毒性...）を考慮しながら生成することで, 創薬研究などに役立ちます.\n",
        "\n",
        "グラフ構造を考慮できるGCNの発展に伴い,グラフ生成分野も研究が進みました.  \n",
        "グラフ生成にも色々なアプローチがありますが,ここではDGMGという手法について紹介します.  \n",
        "画像生成では出来ない,グラフ特有の生成の仕方なので面白いと思います."
      ]
    },
    {
      "cell_type": "markdown",
      "metadata": {
        "id": "vhq6hoJuGKkv"
      },
      "source": [
        "#Learning Deep Generative Models of Graphs (DGMG) [[arXiv](https://arxiv.org/pdf/1803.03324.pdf)]\n",
        "\n",
        "---\n",
        "\n"
      ]
    },
    {
      "cell_type": "markdown",
      "metadata": {
        "id": "-LbQNqdAGmKg"
      },
      "source": [
        "DGMGは3つの識別器と,生成フローを組み合わせることでグラフを生成する手法です.  \n",
        "\n",
        "3つの識別器\n",
        "- add node：新しいノードを追加　or 追加しない (生成フロー終了)\n",
        "- add edge：新しいノードにエッジを追加 or 追加しない\n",
        "- choose dest：新しいノードと，どのノードにエッジを追加するのかの識別器\n",
        "\n",
        "以下が, ３つの識別器を使った生成フローです."
      ]
    },
    {
      "cell_type": "markdown",
      "metadata": {
        "id": "Q7_2apWi2IHF"
      },
      "source": [
        "<!--\n",
        "<img src='https://drive.google.com/uc?id=1meLvQov6EbRnCZ8mSGvGaBeo_gjrWPk4' width=70%>\n",
        "-->\n",
        "<!--\n",
        "<img src='https://github.com/machine-perception-robotics-group/MPRGDeepLearningLectureNotebook/blob/master/15_gcn/fig/05_graph_flow.png?raw=true' width=70%>\n",
        "-->\n",
        "<img src='https://github.com/sirakik/MPRGLecture/blob/master/15_gcn/fig/05_graph_flow.png?raw=true' width=70%>"
      ]
    },
    {
      "cell_type": "markdown",
      "metadata": {
        "id": "rsa1y99W5VoK"
      },
      "source": [
        "3つのノードを持つグラフの生成過程の例が下の画像です.  \n",
        "生成フロー通りに, 識別器が動いているのが，分かると思います.\n",
        "\n",
        "ここで，各識別器の出力を並べると``[0100010000111]``のようなシーケンスとして表現することが出来ます.  \n",
        "DGMGはこのシーケンスを教師として学習を行います.  \n",
        "DGMGはグラフの形そのものを学習するのではなく, そのグラフにたどり着くための識別器の出力順を学習します."
      ]
    },
    {
      "cell_type": "markdown",
      "metadata": {
        "id": "Nm17kPBv2ZJQ"
      },
      "source": [
        "<!--\n",
        "<img src='https://drive.google.com/uc?id=1dgpk8kVBcOB1eJSKwwcxirvGeb6wI9bn' width=70%>\n",
        "-->\n",
        "<!--\n",
        "<img src='https://github.com/machine-perception-robotics-group/MPRGDeepLearningLectureNotebook/blob/master/15_gcn/fig/05_flow.png?raw=true' width=70%>\n",
        "-->\n",
        "<img src='https://github.com/sirakik/MPRGLecture/blob/master/15_gcn/fig/05_flow.png?raw=true' width=70%>"
      ]
    },
    {
      "cell_type": "markdown",
      "metadata": {
        "id": "ZpaVMQqPl_Yq"
      },
      "source": [
        "# 前準備"
      ]
    },
    {
      "cell_type": "markdown",
      "metadata": {
        "id": "_Y7NZt2mmB2f"
      },
      "source": [
        "必要なモジュールをインストール, インポートします."
      ]
    },
    {
      "cell_type": "code",
      "metadata": {
        "id": "XLqKs1I-nD5m",
        "colab": {
          "base_uri": "https://localhost:8080/"
        },
        "outputId": "9753cfbc-5708-40b0-a950-39db43497ee5"
      },
      "source": [
        "!pip install torch==2.2.1 torchvision==0.17.1 torchaudio==2.2.1 --index-url https://download.pytorch.org/whl/cu121\n",
        "!pip install  dgl -f https://data.dgl.ai/wheels/torch-2.2/cu121/repo.html\n",
        "!pip -q install networkx"
      ],
      "execution_count": 1,
      "outputs": [
        {
          "output_type": "stream",
          "name": "stdout",
          "text": [
            "Looking in indexes: https://download.pytorch.org/whl/cu121\n",
            "Requirement already satisfied: torch==2.2.1 in /usr/local/lib/python3.10/dist-packages (2.2.1+cu121)\n",
            "Requirement already satisfied: torchvision==0.17.1 in /usr/local/lib/python3.10/dist-packages (0.17.1+cu121)\n",
            "Requirement already satisfied: torchaudio==2.2.1 in /usr/local/lib/python3.10/dist-packages (2.2.1+cu121)\n",
            "Requirement already satisfied: filelock in /usr/local/lib/python3.10/dist-packages (from torch==2.2.1) (3.16.1)\n",
            "Requirement already satisfied: typing-extensions>=4.8.0 in /usr/local/lib/python3.10/dist-packages (from torch==2.2.1) (4.12.2)\n",
            "Requirement already satisfied: sympy in /usr/local/lib/python3.10/dist-packages (from torch==2.2.1) (1.13.1)\n",
            "Requirement already satisfied: networkx in /usr/local/lib/python3.10/dist-packages (from torch==2.2.1) (3.4.2)\n",
            "Requirement already satisfied: jinja2 in /usr/local/lib/python3.10/dist-packages (from torch==2.2.1) (3.1.4)\n",
            "Requirement already satisfied: fsspec in /usr/local/lib/python3.10/dist-packages (from torch==2.2.1) (2024.10.0)\n",
            "Requirement already satisfied: nvidia-cuda-nvrtc-cu12==12.1.105 in /usr/local/lib/python3.10/dist-packages (from torch==2.2.1) (12.1.105)\n",
            "Requirement already satisfied: nvidia-cuda-runtime-cu12==12.1.105 in /usr/local/lib/python3.10/dist-packages (from torch==2.2.1) (12.1.105)\n",
            "Requirement already satisfied: nvidia-cuda-cupti-cu12==12.1.105 in /usr/local/lib/python3.10/dist-packages (from torch==2.2.1) (12.1.105)\n",
            "Requirement already satisfied: nvidia-cudnn-cu12==8.9.2.26 in /usr/local/lib/python3.10/dist-packages (from torch==2.2.1) (8.9.2.26)\n",
            "Requirement already satisfied: nvidia-cublas-cu12==12.1.3.1 in /usr/local/lib/python3.10/dist-packages (from torch==2.2.1) (12.1.3.1)\n",
            "Requirement already satisfied: nvidia-cufft-cu12==11.0.2.54 in /usr/local/lib/python3.10/dist-packages (from torch==2.2.1) (11.0.2.54)\n",
            "Requirement already satisfied: nvidia-curand-cu12==10.3.2.106 in /usr/local/lib/python3.10/dist-packages (from torch==2.2.1) (10.3.2.106)\n",
            "Requirement already satisfied: nvidia-cusolver-cu12==11.4.5.107 in /usr/local/lib/python3.10/dist-packages (from torch==2.2.1) (11.4.5.107)\n",
            "Requirement already satisfied: nvidia-cusparse-cu12==12.1.0.106 in /usr/local/lib/python3.10/dist-packages (from torch==2.2.1) (12.1.0.106)\n",
            "Requirement already satisfied: nvidia-nccl-cu12==2.19.3 in /usr/local/lib/python3.10/dist-packages (from torch==2.2.1) (2.19.3)\n",
            "Requirement already satisfied: nvidia-nvtx-cu12==12.1.105 in /usr/local/lib/python3.10/dist-packages (from torch==2.2.1) (12.1.105)\n",
            "Requirement already satisfied: triton==2.2.0 in /usr/local/lib/python3.10/dist-packages (from torch==2.2.1) (2.2.0)\n",
            "Requirement already satisfied: numpy in /usr/local/lib/python3.10/dist-packages (from torchvision==0.17.1) (1.26.4)\n",
            "Requirement already satisfied: pillow!=8.3.*,>=5.3.0 in /usr/local/lib/python3.10/dist-packages (from torchvision==0.17.1) (10.4.0)\n",
            "Requirement already satisfied: nvidia-nvjitlink-cu12 in /usr/local/lib/python3.10/dist-packages (from nvidia-cusolver-cu12==11.4.5.107->torch==2.2.1) (12.6.77)\n",
            "Requirement already satisfied: MarkupSafe>=2.0 in /usr/local/lib/python3.10/dist-packages (from jinja2->torch==2.2.1) (3.0.2)\n",
            "Requirement already satisfied: mpmath<1.4,>=1.1.0 in /usr/local/lib/python3.10/dist-packages (from sympy->torch==2.2.1) (1.3.0)\n",
            "Looking in links: https://data.dgl.ai/wheels/torch-2.2/cu121/repo.html\n",
            "Requirement already satisfied: dgl in /usr/local/lib/python3.10/dist-packages (2.4.0+cu121)\n",
            "Requirement already satisfied: networkx>=2.1 in /usr/local/lib/python3.10/dist-packages (from dgl) (3.4.2)\n",
            "Requirement already satisfied: numpy>=1.14.0 in /usr/local/lib/python3.10/dist-packages (from dgl) (1.26.4)\n",
            "Requirement already satisfied: packaging in /usr/local/lib/python3.10/dist-packages (from dgl) (24.1)\n",
            "Requirement already satisfied: pandas in /usr/local/lib/python3.10/dist-packages (from dgl) (2.2.2)\n",
            "Requirement already satisfied: psutil>=5.8.0 in /usr/local/lib/python3.10/dist-packages (from dgl) (5.9.5)\n",
            "Requirement already satisfied: pydantic>=2.0 in /usr/local/lib/python3.10/dist-packages (from dgl) (2.9.2)\n",
            "Requirement already satisfied: pyyaml in /usr/local/lib/python3.10/dist-packages (from dgl) (6.0.2)\n",
            "Requirement already satisfied: requests>=2.19.0 in /usr/local/lib/python3.10/dist-packages (from dgl) (2.32.3)\n",
            "Requirement already satisfied: scipy>=1.1.0 in /usr/local/lib/python3.10/dist-packages (from dgl) (1.13.1)\n",
            "Requirement already satisfied: tqdm in /usr/local/lib/python3.10/dist-packages (from dgl) (4.66.6)\n",
            "Requirement already satisfied: torch<=2.4.0 in /usr/local/lib/python3.10/dist-packages (from dgl) (2.2.1+cu121)\n",
            "Requirement already satisfied: annotated-types>=0.6.0 in /usr/local/lib/python3.10/dist-packages (from pydantic>=2.0->dgl) (0.7.0)\n",
            "Requirement already satisfied: pydantic-core==2.23.4 in /usr/local/lib/python3.10/dist-packages (from pydantic>=2.0->dgl) (2.23.4)\n",
            "Requirement already satisfied: typing-extensions>=4.6.1 in /usr/local/lib/python3.10/dist-packages (from pydantic>=2.0->dgl) (4.12.2)\n",
            "Requirement already satisfied: charset-normalizer<4,>=2 in /usr/local/lib/python3.10/dist-packages (from requests>=2.19.0->dgl) (3.4.0)\n",
            "Requirement already satisfied: idna<4,>=2.5 in /usr/local/lib/python3.10/dist-packages (from requests>=2.19.0->dgl) (3.10)\n",
            "Requirement already satisfied: urllib3<3,>=1.21.1 in /usr/local/lib/python3.10/dist-packages (from requests>=2.19.0->dgl) (2.2.3)\n",
            "Requirement already satisfied: certifi>=2017.4.17 in /usr/local/lib/python3.10/dist-packages (from requests>=2.19.0->dgl) (2024.8.30)\n",
            "Requirement already satisfied: filelock in /usr/local/lib/python3.10/dist-packages (from torch<=2.4.0->dgl) (3.16.1)\n",
            "Requirement already satisfied: sympy in /usr/local/lib/python3.10/dist-packages (from torch<=2.4.0->dgl) (1.13.1)\n",
            "Requirement already satisfied: jinja2 in /usr/local/lib/python3.10/dist-packages (from torch<=2.4.0->dgl) (3.1.4)\n",
            "Requirement already satisfied: fsspec in /usr/local/lib/python3.10/dist-packages (from torch<=2.4.0->dgl) (2024.10.0)\n",
            "Requirement already satisfied: nvidia-cuda-nvrtc-cu12==12.1.105 in /usr/local/lib/python3.10/dist-packages (from torch<=2.4.0->dgl) (12.1.105)\n",
            "Requirement already satisfied: nvidia-cuda-runtime-cu12==12.1.105 in /usr/local/lib/python3.10/dist-packages (from torch<=2.4.0->dgl) (12.1.105)\n",
            "Requirement already satisfied: nvidia-cuda-cupti-cu12==12.1.105 in /usr/local/lib/python3.10/dist-packages (from torch<=2.4.0->dgl) (12.1.105)\n",
            "Requirement already satisfied: nvidia-cudnn-cu12==8.9.2.26 in /usr/local/lib/python3.10/dist-packages (from torch<=2.4.0->dgl) (8.9.2.26)\n",
            "Requirement already satisfied: nvidia-cublas-cu12==12.1.3.1 in /usr/local/lib/python3.10/dist-packages (from torch<=2.4.0->dgl) (12.1.3.1)\n",
            "Requirement already satisfied: nvidia-cufft-cu12==11.0.2.54 in /usr/local/lib/python3.10/dist-packages (from torch<=2.4.0->dgl) (11.0.2.54)\n",
            "Requirement already satisfied: nvidia-curand-cu12==10.3.2.106 in /usr/local/lib/python3.10/dist-packages (from torch<=2.4.0->dgl) (10.3.2.106)\n",
            "Requirement already satisfied: nvidia-cusolver-cu12==11.4.5.107 in /usr/local/lib/python3.10/dist-packages (from torch<=2.4.0->dgl) (11.4.5.107)\n",
            "Requirement already satisfied: nvidia-cusparse-cu12==12.1.0.106 in /usr/local/lib/python3.10/dist-packages (from torch<=2.4.0->dgl) (12.1.0.106)\n",
            "Requirement already satisfied: nvidia-nccl-cu12==2.19.3 in /usr/local/lib/python3.10/dist-packages (from torch<=2.4.0->dgl) (2.19.3)\n",
            "Requirement already satisfied: nvidia-nvtx-cu12==12.1.105 in /usr/local/lib/python3.10/dist-packages (from torch<=2.4.0->dgl) (12.1.105)\n",
            "Requirement already satisfied: triton==2.2.0 in /usr/local/lib/python3.10/dist-packages (from torch<=2.4.0->dgl) (2.2.0)\n",
            "Requirement already satisfied: nvidia-nvjitlink-cu12 in /usr/local/lib/python3.10/dist-packages (from nvidia-cusolver-cu12==11.4.5.107->torch<=2.4.0->dgl) (12.6.77)\n",
            "Requirement already satisfied: python-dateutil>=2.8.2 in /usr/local/lib/python3.10/dist-packages (from pandas->dgl) (2.8.2)\n",
            "Requirement already satisfied: pytz>=2020.1 in /usr/local/lib/python3.10/dist-packages (from pandas->dgl) (2024.2)\n",
            "Requirement already satisfied: tzdata>=2022.7 in /usr/local/lib/python3.10/dist-packages (from pandas->dgl) (2024.2)\n",
            "Requirement already satisfied: six>=1.5 in /usr/local/lib/python3.10/dist-packages (from python-dateutil>=2.8.2->pandas->dgl) (1.16.0)\n",
            "Requirement already satisfied: MarkupSafe>=2.0 in /usr/local/lib/python3.10/dist-packages (from jinja2->torch<=2.4.0->dgl) (3.0.2)\n",
            "Requirement already satisfied: mpmath<1.4,>=1.1.0 in /usr/local/lib/python3.10/dist-packages (from sympy->torch<=2.4.0->dgl) (1.3.0)\n"
          ]
        }
      ]
    },
    {
      "cell_type": "code",
      "metadata": {
        "id": "5kpz7rJSmuvW"
      },
      "source": [
        "import numpy as np\n",
        "import pickle\n",
        "import torch\n",
        "import torch.nn as nn\n",
        "import torch.nn.init as init\n",
        "import torch.nn.functional as F\n",
        "from torch.distributions import Bernoulli, Categorical\n",
        "import dgl\n",
        "from dgl.data import MiniGCDataset\n",
        "from dgl.nn.pytorch import GraphConv\n",
        "import networkx as nx\n",
        "import matplotlib.pyplot as plt"
      ],
      "execution_count": 2,
      "outputs": []
    },
    {
      "cell_type": "markdown",
      "source": [
        "シード値固定"
      ],
      "metadata": {
        "id": "GvKneocmACe4"
      }
    },
    {
      "cell_type": "code",
      "source": [
        "seed = 123\n",
        "# Numpy\n",
        "np.random.seed(seed)\n",
        "# Pytorch\n",
        "torch.manual_seed(seed)\n",
        "torch.cuda.manual_seed(seed)\n",
        "torch.backends.cudnn.deterministic = True\n",
        "torch.use_deterministic_algorithms = True"
      ],
      "metadata": {
        "id": "MsuJkC7a__6v"
      },
      "execution_count": 3,
      "outputs": []
    },
    {
      "cell_type": "markdown",
      "metadata": {
        "id": "O-pKd-sXHj86"
      },
      "source": [
        "# データセット　(MiniGCDataset)\n",
        "\n",
        "---\n",
        "\n"
      ]
    },
    {
      "cell_type": "markdown",
      "metadata": {
        "id": "jEibvFE_jbNM"
      },
      "source": [
        "生成される化合物を直感的に評価することが難しいので,ここでは簡単なグラフ構造の生成を試みます.  \n",
        "DGLが提供する, MiniGCDatasetを利用します.  \n",
        "MiniGCDatasetは, 8クラスのグラフ構造があり, クラスごとにノード数が異なるグラフを持ちます."
      ]
    },
    {
      "cell_type": "markdown",
      "metadata": {
        "id": "319Wfly32tkl"
      },
      "source": [
        "<!--\n",
        "<img src='https://drive.google.com/uc?id=1ALGAgXLqRAKbZ20oXFKYtmZYWjTn99Zv' width=80%>\n",
        "-->\n",
        "<!--\n",
        "<img src='https://github.com/machine-perception-robotics-group/MPRGDeepLearningLectureNotebook/blob/master/15_gcn/fig/05_dataset_overview.png?raw=true' width=80%>\n",
        "-->\n",
        "<img src='https://github.com/sirakik/MPRGLecture/blob/master/15_gcn/fig/05_dataset_overview.png?raw=true' width=80%>\n",
        "\n",
        "\n",
        "[引用元：https://docs.dgl.ai/en/0.4.x/tutorials/basics/4_batch.html]"
      ]
    },
    {
      "cell_type": "markdown",
      "metadata": {
        "id": "HHensQh-pvys"
      },
      "source": [
        "MiniGCDatasetはデータセットではあるものの，データ数や，ノード数を自由に設定し，作成することができます."
      ]
    },
    {
      "cell_type": "code",
      "metadata": {
        "id": "2ix7SySpnrmu"
      },
      "source": [
        "num_per_graph = 100 # クラスごとのデータ数\n",
        "min_num_node = 10 # 生成されるグラフの最小ノード数\n",
        "max_num_node = 20 # 生成されるグラフの最大ノード数\n",
        "dataset = MiniGCDataset(num_per_graph*8, min_num_node, max_num_node)"
      ],
      "execution_count": 4,
      "outputs": []
    },
    {
      "cell_type": "markdown",
      "metadata": {
        "id": "HY9Bf5fPqRY4"
      },
      "source": [
        "データを可視化してみます.データはクラスごとに並んでいます.  \n",
        "クラスごとのデータ数を100にした場合, 0\\~99がクラス0, 100\\~199がクラス1のようになっています.  \n",
        "``DATA_INDEX``を編集して，可視化してみてください.  \n",
        "最小，最大ノード数内でグラフが生成されています."
      ]
    },
    {
      "cell_type": "code",
      "metadata": {
        "id": "jHG0l3bCqQ3v",
        "colab": {
          "base_uri": "https://localhost:8080/",
          "height": 428
        },
        "outputId": "34fd1926-0bc4-49f4-bd20-93e5ee37d91a"
      },
      "source": [
        "DATA_INDEX = 10\n",
        "\n",
        "graph, label = dataset[DATA_INDEX]\n",
        "fig, ax = plt.subplots()\n",
        "nx.draw(graph.to_networkx(), ax=ax, arrows=False)\n",
        "ax.set_title('Class: {:d}'.format(label))\n",
        "plt.show()"
      ],
      "execution_count": 5,
      "outputs": [
        {
          "output_type": "display_data",
          "data": {
            "text/plain": [
              "<Figure size 640x480 with 1 Axes>"
            ],
            "image/png": "[encoded data removed]"
          },
          "metadata": {}
        }
      ]
    },
    {
      "cell_type": "markdown",
      "metadata": {
        "id": "Csp6gTHDFtup"
      },
      "source": [
        "### グラフをシーケンスに変換\n"
      ]
    },
    {
      "cell_type": "markdown",
      "metadata": {
        "id": "PaKtzOQsVx8Z"
      },
      "source": [
        "DGMGの教師となるシーケンスを作成します.  \n",
        "``adj_to_sequence``関数によって,グラフの隣接行列からシーケンスを作成しています.  \n",
        "また，学習するクラスを変更する実験をするため，シーケンスを生成する手順を関数化しておき, 学習の直前で教師を作成します."
      ]
    },
    {
      "cell_type": "code",
      "metadata": {
        "id": "0Jk366LoN-hk"
      },
      "source": [
        "def adj_to_sequence(adj):\n",
        "    sequence = []\n",
        "    for node in range(len(adj)):\n",
        "        sequence.append(0)  # add node\n",
        "        for dest in range(node):\n",
        "            if adj[node][dest] == 1:\n",
        "                sequence.append(0)  # add edge\n",
        "                sequence.append(dest)  # add dest node\n",
        "        sequence.append(1)  # stop add edge\n",
        "    sequence.append(1)  # stop add node\n",
        "    return sequence\n",
        "\n",
        "def make_dataset(class_label):\n",
        "    list_sequence = []\n",
        "    for cla in class_label:\n",
        "        s_index = cla * num_per_graph\n",
        "        for index in range(s_index, s_index+num_per_graph):\n",
        "            graph, _ = dataset[index]\n",
        "            tril = np.ones((graph.number_of_nodes(), graph.number_of_nodes()))\n",
        "            tril = np.tril(tril, k=-1)\n",
        "            adj = graph.adjacency_matrix().to_dense().numpy()\n",
        "            adj = tril*adj\n",
        "            sequence = adj_to_sequence(adj)\n",
        "            list_sequence.append(sequence)\n",
        "    with open('sequence_data.p', 'wb') as f:\n",
        "        pickle.dump(list_sequence, f)"
      ],
      "execution_count": 6,
      "outputs": []
    },
    {
      "cell_type": "markdown",
      "metadata": {
        "id": "udchuYx_WcSQ"
      },
      "source": [
        "データを読み込む関数です."
      ]
    },
    {
      "cell_type": "code",
      "metadata": {
        "id": "VlMFq-8oDKV2"
      },
      "source": [
        "class MiniGCDataset(torch.utils.data.Dataset):\n",
        "    def __init__(self, fname='sequence_data.p'):\n",
        "        super(MiniGCDataset, self).__init__()\n",
        "        with open(fname, 'rb') as f:\n",
        "            self.data = pickle.load(f)\n",
        "\n",
        "    def __len__(self):\n",
        "        return len(self.data)\n",
        "\n",
        "    def __getitem__(self, index):\n",
        "        return self.data[index]"
      ],
      "execution_count": 7,
      "outputs": []
    },
    {
      "cell_type": "markdown",
      "metadata": {
        "id": "O4HVe19LHm25"
      },
      "source": [
        "# DGMG実装\n",
        "\n",
        "---\n",
        "\n"
      ]
    },
    {
      "cell_type": "markdown",
      "metadata": {
        "id": "F8pBEjjfrFnz"
      },
      "source": [
        "### graph embedding"
      ]
    },
    {
      "cell_type": "markdown",
      "metadata": {
        "id": "DOFhrNHBCJJo"
      },
      "source": [
        "add nodeやadd edgeの識別器（全結合層）に渡すために, グラフ特徴を埋め込み表現にする役割です.\n",
        "\n",
        "\\begin{equation}\n",
        "{\\bf h}_{G}=\\sum_{n\\in \\bf V} f_e({\\bf h}_v) \\odot sigmoid(g_e({\\bf h}_v))\n",
        "\\end{equation}\n",
        "\n",
        "$f_e(\\cdot),g_e(\\cdot)$は全結合層です.重要なノードを考慮しつつ特徴を埋め込みます."
      ]
    },
    {
      "cell_type": "markdown",
      "metadata": {
        "id": "Qtz1rU8i28Cl"
      },
      "source": [
        "<!--\n",
        "<img src='https://drive.google.com/uc?id=1fBUApZyGIHXUbWG6lVTYKt9gwDSevtxV' width=40%>\n",
        "-->\n",
        "<!--\n",
        "<img src='https://github.com/machine-perception-robotics-group/MPRGDeepLearningLectureNotebook/blob/master/15_gcn/fig/05_embed.png?raw=true' width=40%>\n",
        "-->\n",
        "<img src='https://github.com/sirakik/MPRGLecture/blob/master/15_gcn/fig/05_graph_embed.png?raw=true' width=40%>"
      ]
    },
    {
      "cell_type": "code",
      "metadata": {
        "id": "nPWfNh3FrK-5"
      },
      "source": [
        "class GraphEmbed(nn.Module):\n",
        "    def __init__(self, node_hidden_size):\n",
        "        super(GraphEmbed, self).__init__()\n",
        "        self.graph_hidden_size = 2 * node_hidden_size\n",
        "        self.node_gating = nn.Sequential(\n",
        "            nn.Linear(node_hidden_size, 1),\n",
        "            nn.Sigmoid())\n",
        "        self.node_to_graph = nn.Linear(node_hidden_size,\n",
        "                                       self.graph_hidden_size)\n",
        "\n",
        "    def forward(self, g):\n",
        "        # ノード数が0(生成の最初)のときは空の特徴を返します.\n",
        "        if g.number_of_nodes() == 0:\n",
        "            return torch.zeros(1, self.graph_hidden_size)\n",
        "        else:\n",
        "            hvs = g.ndata['hv']\n",
        "            hvs = (self.node_gating(hvs) * self.node_to_graph(hvs)).sum(0, keepdim=True)\n",
        "            return hvs"
      ],
      "execution_count": 8,
      "outputs": []
    },
    {
      "cell_type": "markdown",
      "metadata": {
        "id": "WvnwsFMprFPT"
      },
      "source": [
        "### feature extractor"
      ]
    },
    {
      "cell_type": "markdown",
      "metadata": {
        "id": "raACAyyyFFgR"
      },
      "source": [
        "feature extractorは生成フロー中で,エッジが追加された後に使用され,現状のグラフ構造を理解します.  \n",
        "DGMGでは特徴抽出器としてGGNN(GRUを使ったノード特徴集約手法)を使っています.  \n",
        "Graph convolutionより少しだけ前の手法であり, GRUを利用するため勾配消失・爆発が起こりやすい特徴もあります.  \n",
        "せっかくなのでGraph convolutionに変更してみます.  \n",
        "今回は,DGLに実装されている``GraphConv``関数を利用します."
      ]
    },
    {
      "cell_type": "markdown",
      "metadata": {
        "id": "Z9xEGvpG3SVr"
      },
      "source": [
        "<!--\n",
        "<img src='https://drive.google.com/uc?id=12NPl3B8skdJ3qsZXwKiotlgFB94gCv1v' width=40%>\n",
        "-->\n",
        "<!--\n",
        "<img src='https://github.com/machine-perception-robotics-group/MPRGDeepLearningLectureNotebook/blob/master/15_gcn/fig/05_DGMG_feature_extractor.png?raw=true' width=40%>\n",
        "-->\n",
        "<img src='https://github.com/sirakik/MPRGLecture/blob/master/15_gcn/fig/05_DGMG_feature_extractor.png?raw=true' width=40%>"
      ]
    },
    {
      "cell_type": "code",
      "metadata": {
        "id": "pDHN2ZC6rUqj"
      },
      "source": [
        "class FeatureExtractor(nn.Module):\n",
        "    def __init__(self, num_hidden_size):\n",
        "        super(FeatureExtractor, self).__init__()\n",
        "        self.gc1 = GraphConv(num_hidden_size, 2 * num_hidden_size)\n",
        "        self.gc2 = GraphConv(2 * num_hidden_size, num_hidden_size)\n",
        "        self.sigmoid = nn.Sigmoid()\n",
        "\n",
        "    def forward(self, g):\n",
        "        if g.number_of_edges() == 0:\n",
        "            return g\n",
        "        else:\n",
        "            h = self.gc1(g, g.ndata['hv'])\n",
        "            h = self.sigmoid(h)\n",
        "            g.ndata['hv'] = self.gc2(g, h)\n",
        "            return g"
      ],
      "execution_count": 9,
      "outputs": []
    },
    {
      "cell_type": "markdown",
      "metadata": {
        "id": "kc4PomYNpqfT"
      },
      "source": [
        "### add node"
      ]
    },
    {
      "cell_type": "markdown",
      "metadata": {
        "id": "44knGFExM1bB"
      },
      "source": [
        "グラフに新しいノードを追加するか, しないかの2クラス分類器です.  \n",
        "graph embedを通り, その出力値をadd node(全結合層)に通します.  \n",
        "化合物生成の場合, 新しいノード(原子)のクラス(H, He, Li, Be...)を予測する必要がありますが,ここでは必要ありません.  \n",
        "クラスではなく, 新しいノード特徴を生成するのみです(``itinialize_node``)."
      ]
    },
    {
      "cell_type": "markdown",
      "metadata": {
        "id": "8K0jrCnI3fgg"
      },
      "source": [
        "<!--\n",
        "<img src='https://drive.google.com/uc?id=1pK1QNLiaF7qHFMBXS6rbmm94glgUpGND' width=60%>\n",
        "-->\n",
        "<!--\n",
        "<img src='https://github.com/machine-perception-robotics-group/MPRGDeepLearningLectureNotebook/blob/master/15_gcn/fig/05_graph_embed_add_node.png?raw=true' width=60%>\n",
        "-->\n",
        "<img src='https://github.com/sirakik/MPRGLecture/blob/master/15_gcn/fig/05_graph_embed_add_node.png?raw=true' width=60%>"
      ]
    },
    {
      "cell_type": "code",
      "metadata": {
        "id": "8b7u8ST0psEG"
      },
      "source": [
        "class AddNode(nn.Module):\n",
        "    def __init__(self, graph_embed, node_hidden_size):\n",
        "        super(AddNode, self).__init__()\n",
        "        self.graph_embed = graph_embed\n",
        "        self.add_node = nn.Linear(graph_embed.graph_hidden_size, 1)\n",
        "        self.sigmoid = nn.Sigmoid()\n",
        "        # initialize node\n",
        "        self.node_embed = nn.Embedding(1, node_hidden_size)\n",
        "        self.initialize_hv = nn.Linear(graph_embed.graph_hidden_size, node_hidden_size)\n",
        "        self.activation_node = torch.zeros(1, 2 * node_hidden_size)\n",
        "\n",
        "    def prepare_training(self):\n",
        "        self.log_prob = 0\n",
        "\n",
        "    def initialize_node(self, g, graph_feature):\n",
        "        last_node = g.number_of_nodes() - 1\n",
        "        hv_init = self.initialize_hv(graph_feature)\n",
        "        g.nodes[last_node].data['hv'] = hv_init\n",
        "        g.nodes[last_node].data['a'] = self.activation_node\n",
        "        return g\n",
        "\n",
        "    def bernoulli_action_prob(self, logit, action):\n",
        "        if action == 0:\n",
        "            return F.logsigmoid(-logit)\n",
        "        else:\n",
        "            return F.logsigmoid(logit)\n",
        "\n",
        "    def forward(self, g, action=None):\n",
        "        graph_feature = self.graph_embed(g)\n",
        "        logit = self.add_node(graph_feature)\n",
        "\n",
        "        if self.training:\n",
        "            self.log_prob += self.bernoulli_action_prob(logit, action)\n",
        "        else:\n",
        "            prob = self.sigmoid(logit)\n",
        "            action = Bernoulli(prob).sample().item()\n",
        "\n",
        "        stop = bool(action == 1)  # 1はstop\n",
        "\n",
        "        if not stop:\n",
        "            g.add_nodes(1)\n",
        "            g = self.initialize_node(g, graph_feature)\n",
        "\n",
        "        return g, stop"
      ],
      "execution_count": 10,
      "outputs": []
    },
    {
      "cell_type": "markdown",
      "metadata": {
        "id": "6RHlaiVqoyWw"
      },
      "source": [
        "### add edge"
      ]
    },
    {
      "cell_type": "markdown",
      "metadata": {
        "id": "83DkZQDlfnEP"
      },
      "source": [
        "新しいノードにエッジを追加するか, しないかの2クラス分類器です.  \n",
        "新しくノードが追加されたため, グラフの埋め込みをもう一度行います.  \n",
        "埋め込み表現された特徴に, 新しいノード特徴を結合しadd edge(全結合層)に通します."
      ]
    },
    {
      "cell_type": "markdown",
      "metadata": {
        "id": "7JLB1Re33rRm"
      },
      "source": [
        "<!--\n",
        "<img src='https://drive.google.com/uc?id=16iALJ82t-1QydVsYwWTnyjwgrXdO3zHK' width=60%>\n",
        "-->\n",
        "<!--\n",
        "<img src='https://github.com/machine-perception-robotics-group/MPRGDeepLearningLectureNotebook/blob/master/15_gcn/fig/05_graph_embed_add_edge.png?raw=true' width=60%>\n",
        "-->\n",
        "<img src='https://github.com/sirakik/MPRGLecture/blob/master/15_gcn/fig/05_graph_embed_add_edge.png?raw=true' width=60%>"
      ]
    },
    {
      "cell_type": "code",
      "metadata": {
        "id": "cQfaQT6vo1F2"
      },
      "source": [
        "class AddEdge(nn.Module):\n",
        "    def __init__(self, graph_embed, node_hidden_size):\n",
        "        super(AddEdge, self).__init__()\n",
        "        self.graph_embed = graph_embed\n",
        "        self.add_edge = nn.Linear(graph_embed.graph_hidden_size + node_hidden_size, 1)\n",
        "        self.sigmoid = nn.Sigmoid()\n",
        "\n",
        "    def prepare_training(self):\n",
        "        self.log_prob = 0\n",
        "\n",
        "    def bernoulli_action_prob(self, logit, action):\n",
        "        if action == 0:\n",
        "            return F.logsigmoid(-logit)\n",
        "        else:\n",
        "            return F.logsigmoid(logit)\n",
        "\n",
        "    def forward(self, g, action=None):\n",
        "        graph_feature = self.graph_embed(g)\n",
        "        last_node_feature = g.nodes[g.number_of_nodes() - 1].data['hv']\n",
        "        logit = self.add_edge(torch.cat([graph_feature, last_node_feature], dim=1))\n",
        "\n",
        "        if self.training:\n",
        "            self.log_prob += self.bernoulli_action_prob(logit, action)\n",
        "        else:\n",
        "            prob = self.sigmoid(logit)\n",
        "            action = Bernoulli(prob).sample().item()\n",
        "\n",
        "        to_add_edge = bool(action == 0)\n",
        "\n",
        "        return to_add_edge"
      ],
      "execution_count": 11,
      "outputs": []
    },
    {
      "cell_type": "markdown",
      "metadata": {
        "id": "6GZoF4BKqKdh"
      },
      "source": [
        "### choose dest"
      ]
    },
    {
      "cell_type": "markdown",
      "metadata": {
        "id": "P5q1UEbJgIa9"
      },
      "source": [
        "add edgeによって,エッジを追加すると判断された場合に,どのノードにエッジを追加するかを決める多クラス分類器です.  \n",
        "エッジが追加された後に,feature extractorに通します."
      ]
    },
    {
      "cell_type": "markdown",
      "metadata": {
        "id": "jBTTp6Od33CS"
      },
      "source": [
        "<!--\n",
        "<img src='https://drive.google.com/uc?id=14_6edweMFguIJenWQ18xciHg3zg5gcsD' width=70%>\n",
        "-->\n",
        "<!--\n",
        "<img src='https://github.com/machine-perception-robotics-group/MPRGDeepLearningLectureNotebook/blob/master/15_gcn/fig/05_choose_dest_feature_extractor.png?raw=true' width=70%>\n",
        "-->\n",
        "<img src='https://github.com/sirakik/MPRGLecture/blob/master/15_gcn/fig/05_choose_dest_feature_extractor.png?raw=true' width=70%>"
      ]
    },
    {
      "cell_type": "code",
      "metadata": {
        "id": "5z6QIeCvqMdV"
      },
      "source": [
        "class ChooseDest(nn.Module):\n",
        "    def __init__(self, graph_prop, node_hidden_size):\n",
        "        super(ChooseDest, self).__init__()\n",
        "        self.graph_prop = graph_prop\n",
        "        self.choose_dest = nn.Linear(2 * node_hidden_size, 1)\n",
        "        self.softmax = nn.Softmax(dim=1)\n",
        "\n",
        "    def prepare_training(self):\n",
        "        self.log_prob = 0\n",
        "\n",
        "    def initialize_edge(self, g, src_list, dest_list):\n",
        "        edge_repr = torch.ones(len(src_list), 1)\n",
        "        g.edges[src_list, dest_list].data['he'] = edge_repr\n",
        "        return g\n",
        "\n",
        "    def forward(self, g, dest=None):\n",
        "        last_node = g.number_of_nodes() - 1\n",
        "        possible_dest = range(last_node)\n",
        "\n",
        "        last_node_feature_expand = g.nodes[last_node].data['hv'].expand(last_node, -1)\n",
        "        possible_dest_feature = g.nodes[possible_dest].data['hv']\n",
        "\n",
        "        dest_score = self.choose_dest(\n",
        "            torch.cat([possible_dest_feature, last_node_feature_expand], dim=-1\n",
        "        )).view(1, -1)\n",
        "        dest_prob = self.softmax(dest_score)\n",
        "\n",
        "        if self.training:\n",
        "            dest = int(dest.item())\n",
        "            if dest_prob.nelement() > 1:\n",
        "                self.log_prob += F.log_softmax(dest_score, dim=1)[:, dest:dest+1]\n",
        "        else:\n",
        "            dest = Categorical(dest_prob).sample().item()\n",
        "\n",
        "        if not g.has_edges_between(last_node, dest):\n",
        "            src_list = [last_node, dest]\n",
        "            dest_list = [dest, last_node]\n",
        "            g.add_edges(src_list, dest_list)\n",
        "            g = self.initialize_edge(g, src_list, dest_list)\n",
        "        g = self.graph_prop(g)\n",
        "        return g"
      ],
      "execution_count": 12,
      "outputs": []
    },
    {
      "cell_type": "markdown",
      "metadata": {
        "id": "iZ3um0EwowTg"
      },
      "source": [
        "### DGMG"
      ]
    },
    {
      "cell_type": "markdown",
      "metadata": {
        "id": "KH6n0jJKg-WS"
      },
      "source": [
        "生成フローを定義しています.  \n",
        "学習時は，シーケンス（真値）を与え,グラフ生成をします.  \n",
        "仮に,識別器の答えが真値と違った場合でも,真値が出力されたと仮定して,生成を続けます."
      ]
    },
    {
      "cell_type": "markdown",
      "metadata": {
        "id": "69oAGzPK39UI"
      },
      "source": [
        "<!--\n",
        "<img src='https://drive.google.com/uc?id=1meLvQov6EbRnCZ8mSGvGaBeo_gjrWPk4' width=70%>\n",
        "-->\n",
        "<!--\n",
        "<img src='https://github.com/machine-perception-robotics-group/MPRGDeepLearningLectureNotebook/blob/master/15_gcn/fig/05_graph_flow.png?raw=true' width=70%>\n",
        "-->\n",
        "<img src='https://github.com/sirakik/MPRGLecture/blob/master/15_gcn/fig/05_graph_flow.png?raw=true' width=70%>"
      ]
    },
    {
      "cell_type": "code",
      "metadata": {
        "id": "HC0GXjNZnWyl"
      },
      "source": [
        "def weights_init(m):\n",
        "    if isinstance(m, nn.Linear):\n",
        "        init.xavier_normal_(m.weight.data)\n",
        "        init.normal_(m.bias.data)\n",
        "    elif isinstance(m, nn.GRUCell):\n",
        "        for param in m.parameters():\n",
        "            if len(param.shape) >= 2:\n",
        "                init.orthogonal_(param.data)\n",
        "            else:\n",
        "                init.normal_(param.data)\n",
        "\n",
        "class DGMG(nn.Module):\n",
        "    def __init__(self, max_num_node, node_hidden_size):\n",
        "        super(DGMG, self).__init__()\n",
        "        self.max_num_node = max_num_node\n",
        "        self.graph_embed = GraphEmbed(node_hidden_size)\n",
        "        self.graph_prop = FeatureExtractor(node_hidden_size)\n",
        "        self.add_node = AddNode(self.graph_embed, node_hidden_size)\n",
        "        self.add_edge = AddEdge(self.graph_embed, node_hidden_size)\n",
        "        self.choose_dest = ChooseDest(self.graph_prop, node_hidden_size)\n",
        "        self.init_weight()\n",
        "\n",
        "    def init_weight(self):\n",
        "        self.graph_embed.apply(weights_init)\n",
        "        self.graph_prop.apply(weights_init)\n",
        "        self.add_node.apply(weights_init)\n",
        "        self.add_edge.apply(weights_init)\n",
        "        self.choose_dest.apply(weights_init)\n",
        "\n",
        "    @property\n",
        "    def action_step(self):\n",
        "        last_step_count = self.step_count\n",
        "        self.step_count += 1\n",
        "        return last_step_count\n",
        "\n",
        "    def prepare_for_train(self):\n",
        "        self.step_count = 0\n",
        "        self.add_node.prepare_training()\n",
        "        self.add_edge.prepare_training()\n",
        "        self.choose_dest.prepare_training()\n",
        "\n",
        "    def get_log_prob(self):\n",
        "        return self.add_node.log_prob + self.add_edge.log_prob + self.choose_dest.log_prob\n",
        "\n",
        "    def forward_train(self, sequence):\n",
        "        self.prepare_for_train()\n",
        "        self.g, stop = self.add_node(self.g, sequence[self.action_step])\n",
        "        while not stop:\n",
        "            to_add_edge = self.add_edge(self.g, sequence[self.action_step])\n",
        "            while to_add_edge:\n",
        "                self.g = self.choose_dest(self.g, sequence[self.action_step])\n",
        "                to_add_edge = self.add_edge(self.g, sequence[self.action_step])\n",
        "            self.g, stop = self.add_node(self.g, sequence[self.action_step])\n",
        "        return self.get_log_prob()\n",
        "\n",
        "    def forward_eval(self):\n",
        "        self.g, stop = self.add_node(self.g)\n",
        "        while (not stop) and (self.g.number_of_nodes() < self.max_num_node + 1):\n",
        "            num_dest = 0\n",
        "            to_add_edge = self.add_edge(self.g)\n",
        "            while to_add_edge and (num_dest < self.g.number_of_nodes() - 1):\n",
        "                self.g = self.choose_dest(self.g)\n",
        "                num_dest += 1\n",
        "                to_add_edge = self.add_edge(self.g)\n",
        "            self.g, stop = self.add_node(self.g)\n",
        "        return self.g\n",
        "\n",
        "    def forward(self, sequence=None):\n",
        "        self.g = dgl.DGLGraph()\n",
        "        self.g.set_n_initializer(dgl.frame.zero_initializer)\n",
        "        self.g.set_e_initializer(dgl.frame.zero_initializer)\n",
        "        if self.training:\n",
        "            return self.forward_train(sequence)\n",
        "        else:\n",
        "            return self.forward_eval()"
      ],
      "execution_count": 13,
      "outputs": []
    },
    {
      "cell_type": "markdown",
      "metadata": {
        "id": "OZCWz5CvHpCS"
      },
      "source": [
        "# 学習\n",
        "\n",
        "---\n",
        "\n"
      ]
    },
    {
      "cell_type": "markdown",
      "metadata": {
        "id": "pukwpi2iiVKg"
      },
      "source": [
        "各識別器のアクション$a_1,\\dots,a_T$は,以下のように確率として表現できます.\n",
        "\n",
        "\\begin{equation}\n",
        "p(a_1,\\dots,a_T)=p(a_1)p(a_2|a_1)\\dots p(a_T|a_1,\\dots,a_{T-1})\n",
        "\\end{equation}\n",
        "\n",
        "この確率をパラメータの関数と見なすことができるので,  \n",
        "MLE　Loss(Maximum Likelihood Estimation:最尤推定)によってモデルを最適化させます.\n",
        "\n",
        "\\begin{equation}\n",
        "E = -\\log p(a_1,\\dots,a_T) = -\\sum^T_t \\log p(a_t|a_1,\\dots,a_{t-1})\n",
        "\\end{equation}"
      ]
    },
    {
      "cell_type": "markdown",
      "metadata": {
        "id": "yRrwLBUbkZVx"
      },
      "source": [
        "また, 学習させるグラフクラスを選択することができます.  \n",
        "``make_dataset(class_label=[])``の配列にグラフラベルを入力してください.  \n",
        "複数のグラフを学習させることもできます.  \n",
        "複数のグラフを学習させた場合,　各グラフの特徴を考慮したグラフが生成されるはずです."
      ]
    },
    {
      "cell_type": "code",
      "metadata": {
        "id": "JN27Z6fFBqly",
        "colab": {
          "base_uri": "https://localhost:8080/"
        },
        "outputId": "4f86b582-9d4c-416d-ba3a-f100be00fd8c"
      },
      "source": [
        "NUM_EPOCH = 100\n",
        "BATCH_SIZE = 32\n",
        "\n",
        "# クラスの選択\n",
        "make_dataset(class_label=[2])\n",
        "\n",
        "# data loaderのバッチサイズは1で固定です\n",
        "data_loader = torch.utils.data.DataLoader(MiniGCDataset(),\n",
        "                                          batch_size=1,\n",
        "                                          shuffle=True)\n",
        "\n",
        "model = DGMG(max_num_node,\n",
        "                node_hidden_size=16)\n",
        "optimizer = torch.optim.Adam(model.parameters(), lr=0.01)\n",
        "\n",
        "#model.train()\n",
        "for epoch in range(1, NUM_EPOCH+1):\n",
        "    batch_count = 0\n",
        "    batch_loss = 0\n",
        "    optimizer.zero_grad()\n",
        "    for i, data in enumerate(data_loader):\n",
        "        data = data\n",
        "        log_prob = model(sequence=data)\n",
        "        prob = log_prob.detach().exp()\n",
        "\n",
        "        loss = - log_prob / BATCH_SIZE\n",
        "        loss.backward()\n",
        "        batch_loss += loss.item()\n",
        "        batch_count += 1\n",
        "\n",
        "        if batch_count % BATCH_SIZE == 0:\n",
        "            optimizer.step()\n",
        "            optimizer.zero_grad()\n",
        "            print('# Epoch: {} | Batch: [{}/{}] | loss: {:.4f}'.format(epoch, i+1, len(data_loader), batch_loss/BATCH_SIZE))\n",
        "            batch_loss = 0"
      ],
      "execution_count": 15,
      "outputs": [
        {
          "output_type": "stream",
          "name": "stdout",
          "text": [
            "# Epoch: 1 | Batch: [32/100] | loss: 3.0585\n",
            "# Epoch: 1 | Batch: [64/100] | loss: 5.2919\n",
            "# Epoch: 1 | Batch: [96/100] | loss: 3.4690\n",
            "# Epoch: 2 | Batch: [32/100] | loss: 2.5637\n",
            "# Epoch: 2 | Batch: [64/100] | loss: 2.9043\n",
            "# Epoch: 2 | Batch: [96/100] | loss: 2.9964\n",
            "# Epoch: 3 | Batch: [32/100] | loss: 2.9320\n",
            "# Epoch: 3 | Batch: [64/100] | loss: 2.5105\n",
            "# Epoch: 3 | Batch: [96/100] | loss: 2.7622\n",
            "# Epoch: 4 | Batch: [32/100] | loss: 2.7778\n",
            "# Epoch: 4 | Batch: [64/100] | loss: 2.6052\n",
            "# Epoch: 4 | Batch: [96/100] | loss: 2.4312\n",
            "# Epoch: 5 | Batch: [32/100] | loss: 2.6256\n",
            "# Epoch: 5 | Batch: [64/100] | loss: 2.3264\n",
            "# Epoch: 5 | Batch: [96/100] | loss: 2.6768\n",
            "# Epoch: 6 | Batch: [32/100] | loss: 2.3156\n",
            "# Epoch: 6 | Batch: [64/100] | loss: 2.6504\n",
            "# Epoch: 6 | Batch: [96/100] | loss: 2.4949\n",
            "# Epoch: 7 | Batch: [32/100] | loss: 2.4161\n",
            "# Epoch: 7 | Batch: [64/100] | loss: 2.3852\n",
            "# Epoch: 7 | Batch: [96/100] | loss: 2.4747\n",
            "# Epoch: 8 | Batch: [32/100] | loss: 2.1293\n",
            "# Epoch: 8 | Batch: [64/100] | loss: 2.5000\n",
            "# Epoch: 8 | Batch: [96/100] | loss: 2.3992\n",
            "# Epoch: 9 | Batch: [32/100] | loss: 2.3732\n",
            "# Epoch: 9 | Batch: [64/100] | loss: 2.3678\n",
            "# Epoch: 9 | Batch: [96/100] | loss: 2.2165\n",
            "# Epoch: 10 | Batch: [32/100] | loss: 2.2299\n",
            "# Epoch: 10 | Batch: [64/100] | loss: 2.4162\n",
            "# Epoch: 10 | Batch: [96/100] | loss: 2.2210\n",
            "# Epoch: 11 | Batch: [32/100] | loss: 2.3113\n",
            "# Epoch: 11 | Batch: [64/100] | loss: 2.3098\n",
            "# Epoch: 11 | Batch: [96/100] | loss: 2.1236\n",
            "# Epoch: 12 | Batch: [32/100] | loss: 2.2607\n",
            "# Epoch: 12 | Batch: [64/100] | loss: 2.0907\n",
            "# Epoch: 12 | Batch: [96/100] | loss: 2.2793\n",
            "# Epoch: 13 | Batch: [32/100] | loss: 2.1498\n",
            "# Epoch: 13 | Batch: [64/100] | loss: 2.2316\n",
            "# Epoch: 13 | Batch: [96/100] | loss: 2.2150\n",
            "# Epoch: 14 | Batch: [32/100] | loss: 2.3524\n",
            "# Epoch: 14 | Batch: [64/100] | loss: 2.1818\n",
            "# Epoch: 14 | Batch: [96/100] | loss: 1.9879\n",
            "# Epoch: 15 | Batch: [32/100] | loss: 2.1954\n",
            "# Epoch: 15 | Batch: [64/100] | loss: 2.2005\n",
            "# Epoch: 15 | Batch: [96/100] | loss: 2.0298\n",
            "# Epoch: 16 | Batch: [32/100] | loss: 2.1302\n",
            "# Epoch: 16 | Batch: [64/100] | loss: 2.1040\n",
            "# Epoch: 16 | Batch: [96/100] | loss: 2.0945\n",
            "# Epoch: 17 | Batch: [32/100] | loss: 2.0494\n",
            "# Epoch: 17 | Batch: [64/100] | loss: 2.1136\n",
            "# Epoch: 17 | Batch: [96/100] | loss: 2.0251\n",
            "# Epoch: 18 | Batch: [32/100] | loss: 2.0645\n",
            "# Epoch: 18 | Batch: [64/100] | loss: 2.0776\n",
            "# Epoch: 18 | Batch: [96/100] | loss: 1.9063\n",
            "# Epoch: 19 | Batch: [32/100] | loss: 1.9490\n",
            "# Epoch: 19 | Batch: [64/100] | loss: 2.0568\n",
            "# Epoch: 19 | Batch: [96/100] | loss: 1.8639\n",
            "# Epoch: 20 | Batch: [32/100] | loss: 1.8493\n",
            "# Epoch: 20 | Batch: [64/100] | loss: 1.9264\n",
            "# Epoch: 20 | Batch: [96/100] | loss: 1.9260\n",
            "# Epoch: 21 | Batch: [32/100] | loss: 1.9212\n",
            "# Epoch: 21 | Batch: [64/100] | loss: 1.8056\n",
            "# Epoch: 21 | Batch: [96/100] | loss: 1.8000\n",
            "# Epoch: 22 | Batch: [32/100] | loss: 1.7219\n",
            "# Epoch: 22 | Batch: [64/100] | loss: 1.7613\n",
            "# Epoch: 22 | Batch: [96/100] | loss: 1.8529\n",
            "# Epoch: 23 | Batch: [32/100] | loss: 1.6369\n",
            "# Epoch: 23 | Batch: [64/100] | loss: 1.7489\n",
            "# Epoch: 23 | Batch: [96/100] | loss: 1.7109\n",
            "# Epoch: 24 | Batch: [32/100] | loss: 1.6775\n",
            "# Epoch: 24 | Batch: [64/100] | loss: 1.6606\n",
            "# Epoch: 24 | Batch: [96/100] | loss: 1.5878\n",
            "# Epoch: 25 | Batch: [32/100] | loss: 1.5772\n",
            "# Epoch: 25 | Batch: [64/100] | loss: 1.5590\n",
            "# Epoch: 25 | Batch: [96/100] | loss: 1.5667\n",
            "# Epoch: 26 | Batch: [32/100] | loss: 1.5748\n",
            "# Epoch: 26 | Batch: [64/100] | loss: 1.3876\n",
            "# Epoch: 26 | Batch: [96/100] | loss: 1.5952\n",
            "# Epoch: 27 | Batch: [32/100] | loss: 1.3860\n",
            "# Epoch: 27 | Batch: [64/100] | loss: 1.5468\n",
            "# Epoch: 27 | Batch: [96/100] | loss: 1.4914\n",
            "# Epoch: 28 | Batch: [32/100] | loss: 1.3113\n",
            "# Epoch: 28 | Batch: [64/100] | loss: 1.5379\n",
            "# Epoch: 28 | Batch: [96/100] | loss: 1.4996\n",
            "# Epoch: 29 | Batch: [32/100] | loss: 1.4851\n",
            "# Epoch: 29 | Batch: [64/100] | loss: 1.3673\n",
            "# Epoch: 29 | Batch: [96/100] | loss: 1.3038\n",
            "# Epoch: 30 | Batch: [32/100] | loss: 1.3414\n",
            "# Epoch: 30 | Batch: [64/100] | loss: 1.3616\n",
            "# Epoch: 30 | Batch: [96/100] | loss: 1.3310\n",
            "# Epoch: 31 | Batch: [32/100] | loss: 1.2918\n",
            "# Epoch: 31 | Batch: [64/100] | loss: 1.3249\n",
            "# Epoch: 31 | Batch: [96/100] | loss: 1.2844\n",
            "# Epoch: 32 | Batch: [32/100] | loss: 1.3247\n",
            "# Epoch: 32 | Batch: [64/100] | loss: 1.2575\n",
            "# Epoch: 32 | Batch: [96/100] | loss: 1.1651\n",
            "# Epoch: 33 | Batch: [32/100] | loss: 1.2084\n",
            "# Epoch: 33 | Batch: [64/100] | loss: 1.1675\n",
            "# Epoch: 33 | Batch: [96/100] | loss: 1.2084\n",
            "# Epoch: 34 | Batch: [32/100] | loss: 1.0812\n",
            "# Epoch: 34 | Batch: [64/100] | loss: 1.1226\n",
            "# Epoch: 34 | Batch: [96/100] | loss: 1.1446\n",
            "# Epoch: 35 | Batch: [32/100] | loss: 1.1286\n",
            "# Epoch: 35 | Batch: [64/100] | loss: 1.0104\n",
            "# Epoch: 35 | Batch: [96/100] | loss: 1.0631\n",
            "# Epoch: 36 | Batch: [32/100] | loss: 0.9293\n",
            "# Epoch: 36 | Batch: [64/100] | loss: 1.0537\n",
            "# Epoch: 36 | Batch: [96/100] | loss: 0.9820\n",
            "# Epoch: 37 | Batch: [32/100] | loss: 0.9653\n",
            "# Epoch: 37 | Batch: [64/100] | loss: 0.9202\n",
            "# Epoch: 37 | Batch: [96/100] | loss: 0.8688\n",
            "# Epoch: 38 | Batch: [32/100] | loss: 0.8666\n",
            "# Epoch: 38 | Batch: [64/100] | loss: 0.8058\n",
            "# Epoch: 38 | Batch: [96/100] | loss: 0.8193\n",
            "# Epoch: 39 | Batch: [32/100] | loss: 0.7697\n",
            "# Epoch: 39 | Batch: [64/100] | loss: 0.8165\n",
            "# Epoch: 39 | Batch: [96/100] | loss: 0.7459\n",
            "# Epoch: 40 | Batch: [32/100] | loss: 0.7238\n",
            "# Epoch: 40 | Batch: [64/100] | loss: 0.7464\n",
            "# Epoch: 40 | Batch: [96/100] | loss: 0.7397\n",
            "# Epoch: 41 | Batch: [32/100] | loss: 0.6991\n",
            "# Epoch: 41 | Batch: [64/100] | loss: 0.6771\n",
            "# Epoch: 41 | Batch: [96/100] | loss: 0.6653\n",
            "# Epoch: 42 | Batch: [32/100] | loss: 0.6345\n",
            "# Epoch: 42 | Batch: [64/100] | loss: 0.6284\n",
            "# Epoch: 42 | Batch: [96/100] | loss: 0.6395\n",
            "# Epoch: 43 | Batch: [32/100] | loss: 0.6254\n",
            "# Epoch: 43 | Batch: [64/100] | loss: 0.6029\n",
            "# Epoch: 43 | Batch: [96/100] | loss: 0.5916\n",
            "# Epoch: 44 | Batch: [32/100] | loss: 0.5651\n",
            "# Epoch: 44 | Batch: [64/100] | loss: 0.6133\n",
            "# Epoch: 44 | Batch: [96/100] | loss: 0.5990\n",
            "# Epoch: 45 | Batch: [32/100] | loss: 0.5586\n",
            "# Epoch: 45 | Batch: [64/100] | loss: 0.6365\n",
            "# Epoch: 45 | Batch: [96/100] | loss: 0.7386\n",
            "# Epoch: 46 | Batch: [32/100] | loss: 0.7312\n",
            "# Epoch: 46 | Batch: [64/100] | loss: 0.6246\n",
            "# Epoch: 46 | Batch: [96/100] | loss: 0.6390\n",
            "# Epoch: 47 | Batch: [32/100] | loss: 0.6522\n",
            "# Epoch: 47 | Batch: [64/100] | loss: 0.6167\n",
            "# Epoch: 47 | Batch: [96/100] | loss: 0.6196\n",
            "# Epoch: 48 | Batch: [32/100] | loss: 0.6066\n",
            "# Epoch: 48 | Batch: [64/100] | loss: 0.5657\n",
            "# Epoch: 48 | Batch: [96/100] | loss: 0.5304\n",
            "# Epoch: 49 | Batch: [32/100] | loss: 0.6379\n",
            "# Epoch: 49 | Batch: [64/100] | loss: 0.5497\n",
            "# Epoch: 49 | Batch: [96/100] | loss: 0.5698\n",
            "# Epoch: 50 | Batch: [32/100] | loss: 0.5527\n",
            "# Epoch: 50 | Batch: [64/100] | loss: 0.5608\n",
            "# Epoch: 50 | Batch: [96/100] | loss: 0.5608\n",
            "# Epoch: 51 | Batch: [32/100] | loss: 0.5624\n",
            "# Epoch: 51 | Batch: [64/100] | loss: 0.5714\n",
            "# Epoch: 51 | Batch: [96/100] | loss: 0.5286\n",
            "# Epoch: 52 | Batch: [32/100] | loss: 0.5269\n",
            "# Epoch: 52 | Batch: [64/100] | loss: 0.5266\n",
            "# Epoch: 52 | Batch: [96/100] | loss: 0.5477\n",
            "# Epoch: 53 | Batch: [32/100] | loss: 0.5251\n",
            "# Epoch: 53 | Batch: [64/100] | loss: 0.5558\n",
            "# Epoch: 53 | Batch: [96/100] | loss: 0.4997\n",
            "# Epoch: 54 | Batch: [32/100] | loss: 0.5136\n",
            "# Epoch: 54 | Batch: [64/100] | loss: 0.5151\n",
            "# Epoch: 54 | Batch: [96/100] | loss: 0.5176\n",
            "# Epoch: 55 | Batch: [32/100] | loss: 0.5297\n",
            "# Epoch: 55 | Batch: [64/100] | loss: 0.5075\n",
            "# Epoch: 55 | Batch: [96/100] | loss: 0.4968\n",
            "# Epoch: 56 | Batch: [32/100] | loss: 0.4968\n",
            "# Epoch: 56 | Batch: [64/100] | loss: 0.4872\n",
            "# Epoch: 56 | Batch: [96/100] | loss: 0.5374\n",
            "# Epoch: 57 | Batch: [32/100] | loss: 0.5004\n",
            "# Epoch: 57 | Batch: [64/100] | loss: 0.5052\n",
            "# Epoch: 57 | Batch: [96/100] | loss: 0.4980\n",
            "# Epoch: 58 | Batch: [32/100] | loss: 0.4879\n",
            "# Epoch: 58 | Batch: [64/100] | loss: 0.5039\n",
            "# Epoch: 58 | Batch: [96/100] | loss: 0.5004\n",
            "# Epoch: 59 | Batch: [32/100] | loss: 0.4978\n",
            "# Epoch: 59 | Batch: [64/100] | loss: 0.4815\n",
            "# Epoch: 59 | Batch: [96/100] | loss: 0.4975\n",
            "# Epoch: 60 | Batch: [32/100] | loss: 0.4817\n",
            "# Epoch: 60 | Batch: [64/100] | loss: 0.4749\n",
            "# Epoch: 60 | Batch: [96/100] | loss: 0.5186\n",
            "# Epoch: 61 | Batch: [32/100] | loss: 0.4975\n",
            "# Epoch: 61 | Batch: [64/100] | loss: 0.4792\n",
            "# Epoch: 61 | Batch: [96/100] | loss: 0.4858\n",
            "# Epoch: 62 | Batch: [32/100] | loss: 0.4868\n",
            "# Epoch: 62 | Batch: [64/100] | loss: 0.4786\n",
            "# Epoch: 62 | Batch: [96/100] | loss: 0.4885\n",
            "# Epoch: 63 | Batch: [32/100] | loss: 0.4792\n",
            "# Epoch: 63 | Batch: [64/100] | loss: 0.4744\n",
            "# Epoch: 63 | Batch: [96/100] | loss: 0.4786\n",
            "# Epoch: 64 | Batch: [32/100] | loss: 0.4588\n",
            "# Epoch: 64 | Batch: [64/100] | loss: 0.4875\n",
            "# Epoch: 64 | Batch: [96/100] | loss: 0.4813\n",
            "# Epoch: 65 | Batch: [32/100] | loss: 0.4584\n",
            "# Epoch: 65 | Batch: [64/100] | loss: 0.4747\n",
            "# Epoch: 65 | Batch: [96/100] | loss: 0.4737\n",
            "# Epoch: 66 | Batch: [32/100] | loss: 0.4673\n",
            "# Epoch: 66 | Batch: [64/100] | loss: 0.4688\n",
            "# Epoch: 66 | Batch: [96/100] | loss: 0.4665\n",
            "# Epoch: 67 | Batch: [32/100] | loss: 0.4774\n",
            "# Epoch: 67 | Batch: [64/100] | loss: 0.4565\n",
            "# Epoch: 67 | Batch: [96/100] | loss: 0.4599\n",
            "# Epoch: 68 | Batch: [32/100] | loss: 0.4651\n",
            "# Epoch: 68 | Batch: [64/100] | loss: 0.4529\n",
            "# Epoch: 68 | Batch: [96/100] | loss: 0.4581\n",
            "# Epoch: 69 | Batch: [32/100] | loss: 0.4612\n",
            "# Epoch: 69 | Batch: [64/100] | loss: 0.4518\n",
            "# Epoch: 69 | Batch: [96/100] | loss: 0.4610\n",
            "# Epoch: 70 | Batch: [32/100] | loss: 0.4591\n",
            "# Epoch: 70 | Batch: [64/100] | loss: 0.4525\n",
            "# Epoch: 70 | Batch: [96/100] | loss: 0.4512\n",
            "# Epoch: 71 | Batch: [32/100] | loss: 0.4536\n",
            "# Epoch: 71 | Batch: [64/100] | loss: 0.4496\n",
            "# Epoch: 71 | Batch: [96/100] | loss: 0.4548\n",
            "# Epoch: 72 | Batch: [32/100] | loss: 0.4563\n",
            "# Epoch: 72 | Batch: [64/100] | loss: 0.4502\n",
            "# Epoch: 72 | Batch: [96/100] | loss: 0.4393\n",
            "# Epoch: 73 | Batch: [32/100] | loss: 0.4507\n",
            "# Epoch: 73 | Batch: [64/100] | loss: 0.4461\n",
            "# Epoch: 73 | Batch: [96/100] | loss: 0.4321\n",
            "# Epoch: 74 | Batch: [32/100] | loss: 0.4318\n",
            "# Epoch: 74 | Batch: [64/100] | loss: 0.4566\n",
            "# Epoch: 74 | Batch: [96/100] | loss: 0.4392\n",
            "# Epoch: 75 | Batch: [32/100] | loss: 0.4384\n",
            "# Epoch: 75 | Batch: [64/100] | loss: 0.4464\n",
            "# Epoch: 75 | Batch: [96/100] | loss: 0.4314\n",
            "# Epoch: 76 | Batch: [32/100] | loss: 0.4460\n",
            "# Epoch: 76 | Batch: [64/100] | loss: 0.4302\n",
            "# Epoch: 76 | Batch: [96/100] | loss: 0.4276\n",
            "# Epoch: 77 | Batch: [32/100] | loss: 0.4398\n",
            "# Epoch: 77 | Batch: [64/100] | loss: 0.4308\n",
            "# Epoch: 77 | Batch: [96/100] | loss: 0.4223\n",
            "# Epoch: 78 | Batch: [32/100] | loss: 0.4204\n",
            "# Epoch: 78 | Batch: [64/100] | loss: 0.4177\n",
            "# Epoch: 78 | Batch: [96/100] | loss: 0.4466\n",
            "# Epoch: 79 | Batch: [32/100] | loss: 0.4242\n",
            "# Epoch: 79 | Batch: [64/100] | loss: 0.4250\n",
            "# Epoch: 79 | Batch: [96/100] | loss: 0.4236\n",
            "# Epoch: 80 | Batch: [32/100] | loss: 0.4252\n",
            "# Epoch: 80 | Batch: [64/100] | loss: 0.4191\n",
            "# Epoch: 80 | Batch: [96/100] | loss: 0.4164\n",
            "# Epoch: 81 | Batch: [32/100] | loss: 0.4183\n",
            "# Epoch: 81 | Batch: [64/100] | loss: 0.4164\n",
            "# Epoch: 81 | Batch: [96/100] | loss: 0.4116\n",
            "# Epoch: 82 | Batch: [32/100] | loss: 0.4013\n",
            "# Epoch: 82 | Batch: [64/100] | loss: 0.4140\n",
            "# Epoch: 82 | Batch: [96/100] | loss: 0.4176\n",
            "# Epoch: 83 | Batch: [32/100] | loss: 0.3983\n",
            "# Epoch: 83 | Batch: [64/100] | loss: 0.4113\n",
            "# Epoch: 83 | Batch: [96/100] | loss: 0.4137\n",
            "# Epoch: 84 | Batch: [32/100] | loss: 0.4052\n",
            "# Epoch: 84 | Batch: [64/100] | loss: 0.4111\n",
            "# Epoch: 84 | Batch: [96/100] | loss: 0.4010\n",
            "# Epoch: 85 | Batch: [32/100] | loss: 0.3973\n",
            "# Epoch: 85 | Batch: [64/100] | loss: 0.4023\n",
            "# Epoch: 85 | Batch: [96/100] | loss: 0.4127\n",
            "# Epoch: 86 | Batch: [32/100] | loss: 0.4027\n",
            "# Epoch: 86 | Batch: [64/100] | loss: 0.3983\n",
            "# Epoch: 86 | Batch: [96/100] | loss: 0.3987\n",
            "# Epoch: 87 | Batch: [32/100] | loss: 0.4041\n",
            "# Epoch: 87 | Batch: [64/100] | loss: 0.3966\n",
            "# Epoch: 87 | Batch: [96/100] | loss: 0.3945\n",
            "# Epoch: 88 | Batch: [32/100] | loss: 0.3929\n",
            "# Epoch: 88 | Batch: [64/100] | loss: 0.3920\n",
            "# Epoch: 88 | Batch: [96/100] | loss: 0.4014\n",
            "# Epoch: 89 | Batch: [32/100] | loss: 0.3940\n",
            "# Epoch: 89 | Batch: [64/100] | loss: 0.3882\n",
            "# Epoch: 89 | Batch: [96/100] | loss: 0.3914\n",
            "# Epoch: 90 | Batch: [32/100] | loss: 0.3878\n",
            "# Epoch: 90 | Batch: [64/100] | loss: 0.3861\n",
            "# Epoch: 90 | Batch: [96/100] | loss: 0.3914\n",
            "# Epoch: 91 | Batch: [32/100] | loss: 0.3825\n",
            "# Epoch: 91 | Batch: [64/100] | loss: 0.3821\n",
            "# Epoch: 91 | Batch: [96/100] | loss: 0.3941\n",
            "# Epoch: 92 | Batch: [32/100] | loss: 0.3814\n",
            "# Epoch: 92 | Batch: [64/100] | loss: 0.3855\n",
            "# Epoch: 92 | Batch: [96/100] | loss: 0.3841\n",
            "# Epoch: 93 | Batch: [32/100] | loss: 0.3871\n",
            "# Epoch: 93 | Batch: [64/100] | loss: 0.3774\n",
            "# Epoch: 93 | Batch: [96/100] | loss: 0.3721\n",
            "# Epoch: 94 | Batch: [32/100] | loss: 0.3798\n",
            "# Epoch: 94 | Batch: [64/100] | loss: 0.3732\n",
            "# Epoch: 94 | Batch: [96/100] | loss: 0.3708\n",
            "# Epoch: 95 | Batch: [32/100] | loss: 0.3781\n",
            "# Epoch: 95 | Batch: [64/100] | loss: 0.3648\n",
            "# Epoch: 95 | Batch: [96/100] | loss: 0.3780\n",
            "# Epoch: 96 | Batch: [32/100] | loss: 0.3716\n",
            "# Epoch: 96 | Batch: [64/100] | loss: 0.3706\n",
            "# Epoch: 96 | Batch: [96/100] | loss: 0.3657\n",
            "# Epoch: 97 | Batch: [32/100] | loss: 0.3788\n",
            "# Epoch: 97 | Batch: [64/100] | loss: 0.3604\n",
            "# Epoch: 97 | Batch: [96/100] | loss: 0.3703\n",
            "# Epoch: 98 | Batch: [32/100] | loss: 0.3587\n",
            "# Epoch: 98 | Batch: [64/100] | loss: 0.3696\n",
            "# Epoch: 98 | Batch: [96/100] | loss: 0.4248\n",
            "# Epoch: 99 | Batch: [32/100] | loss: 0.3791\n",
            "# Epoch: 99 | Batch: [64/100] | loss: 0.4608\n",
            "# Epoch: 99 | Batch: [96/100] | loss: 0.4222\n",
            "# Epoch: 100 | Batch: [32/100] | loss: 0.4213\n",
            "# Epoch: 100 | Batch: [64/100] | loss: 0.4263\n",
            "# Epoch: 100 | Batch: [96/100] | loss: 0.4158\n"
          ]
        }
      ]
    },
    {
      "cell_type": "markdown",
      "metadata": {
        "id": "6QBEyDoyHrN3"
      },
      "source": [
        "# 可視化\n",
        "\n",
        "---\n",
        "\n"
      ]
    },
    {
      "cell_type": "markdown",
      "metadata": {
        "id": "DaUTZNPdk5h6"
      },
      "source": [
        "生成されるグラフを数値として評価することは困難なので,可視化することで評価します.  \n",
        "何回も生成してみてください．毎回違うグラフが生成されるはずです."
      ]
    },
    {
      "cell_type": "code",
      "metadata": {
        "id": "COCGqIWOAegm",
        "colab": {
          "base_uri": "https://localhost:8080/",
          "height": 442
        },
        "outputId": "d58be558-6da5-40cb-d290-7a97640e5805"
      },
      "source": [
        "model.eval()\n",
        "g = model()\n",
        "\n",
        "print('ノードの数   :　', g.number_of_nodes())\n",
        "print('エッジの本数　：　', g.number_of_edges())\n",
        "nx.draw_networkx(g.to_networkx(), node_color=[[1.0, 0.45, 0.45]])\n",
        "plt.show()"
      ],
      "execution_count": 16,
      "outputs": [
        {
          "output_type": "stream",
          "name": "stdout",
          "text": [
            "ノードの数   :　 21\n",
            "エッジの本数　：　 74\n"
          ]
        },
        {
          "output_type": "display_data",
          "data": {
            "text/plain": [
              "<Figure size 640x480 with 1 Axes>"
            ],
            "image/png": "[encoded data removed]"
          },
          "metadata": {}
        }
      ]
    },
    {
      "cell_type": "markdown",
      "metadata": {
        "id": "JNcYSxBPaO-n"
      },
      "source": [
        "## 課題"
      ]
    },
    {
      "cell_type": "markdown",
      "metadata": {
        "id": "Yy_5s62UaTi8"
      },
      "source": [
        "学習に使用するグラフ構造を変化させ， どのようなグラフが生成されるかを確認しましょう.\n",
        " モデルの学習コードにある`make_dataset(class_label=[])`を変更します.\n",
        "- `make_dataset(class_label=[1])`: ラベル1のグラフを学習します.\n",
        "- `make_dataset(class_label=[1,2])`: ラベル1とラベル2のグラフを学習します.\n",
        "   2つのグラフ構造の中間にあたるようなグラフが生成されるはずです."
      ]
    }
  ]
}